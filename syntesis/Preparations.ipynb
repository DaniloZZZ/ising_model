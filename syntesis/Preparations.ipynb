{
 "cells": [
  {
   "cell_type": "markdown",
   "metadata": {
    "toc": true
   },
   "source": [
    "<h1>Table of Contents<span class=\"tocSkip\"></span></h1>\n",
    "<div class=\"toc\"><ul class=\"toc-item\"></ul></div>"
   ]
  },
  {
   "cell_type": "code",
   "execution_count": 15,
   "metadata": {
    "ExecuteTime": {
     "end_time": "2020-04-03T00:55:05.788937Z",
     "start_time": "2020-04-03T00:55:05.783148Z"
    }
   },
   "outputs": [],
   "source": [
    "import sys\n",
    "import numpy as np\n",
    "import pyrofiler as prof\n",
    "import itertools"
   ]
  },
  {
   "cell_type": "code",
   "execution_count": 47,
   "metadata": {
    "ExecuteTime": {
     "end_time": "2020-04-03T01:11:59.606317Z",
     "start_time": "2020-04-03T01:11:59.563071Z"
    }
   },
   "outputs": [
    {
     "name": "stdout",
     "output_type": "stream",
     "text": [
      "float64\n"
     ]
    }
   ],
   "source": [
    "S = int(40)**2\n",
    "\n",
    "x = np.random.random(S)\n",
    "print(x.dtype)"
   ]
  },
  {
   "cell_type": "code",
   "execution_count": 48,
   "metadata": {
    "ExecuteTime": {
     "end_time": "2020-04-03T01:11:59.707985Z",
     "start_time": "2020-04-03T01:11:59.690935Z"
    }
   },
   "outputs": [
    {
     "name": "stdout",
     "output_type": "stream",
     "text": [
      "[(-1, -1), (-1, 0), (-1, 1), (0, -1), (0, 0), (0, 1), (1, -1), (1, 0), (1, 1)]\n"
     ]
    }
   ],
   "source": [
    "def iter_nn_idx(i, shape):\n",
    "    dim = len(i)\n",
    "    assert dim == len(shape)\n",
    "    deltas = itertools.product([-1, 0, 1], repeat=dim)\n",
    "    return deltas\n",
    "\n",
    "def test_iter_nn_idx():\n",
    "    d = iter_nn_idx([2,2], (5,5))\n",
    "    print(list(d))\n",
    "test_iter_nn_idx()\n"
   ]
  },
  {
   "cell_type": "code",
   "execution_count": 49,
   "metadata": {
    "ExecuteTime": {
     "end_time": "2020-04-03T01:12:00.426036Z",
     "start_time": "2020-04-03T01:12:00.369740Z"
    }
   },
   "outputs": [],
   "source": [
    " \n",
    "def get_nn_mask(i, side=int(1e3)):\n",
    "    shape = (side, side)\n",
    "    m = np.zeros((side, side))\n",
    "    ix = np.unravel_index(i, shape)\n",
    "    \n",
    "    m[ix[0]+1, ix[1]] = 1\n",
    "    m[ix[0]-1, ix[1]] = 1\n",
    "    m[ix[0], ix[1]+1] = 1\n",
    "    m[ix[0], ix[1]-1] = 1\n",
    "    \n",
    "    return m.flatten()\n",
    "    \n",
    "m = get_nn_mask(1+1000, side=int(np.sqrt(S)))"
   ]
  },
  {
   "cell_type": "code",
   "execution_count": 50,
   "metadata": {
    "ExecuteTime": {
     "end_time": "2020-04-03T01:12:06.541278Z",
     "start_time": "2020-04-03T01:12:00.881941Z"
    }
   },
   "outputs": [
    {
     "name": "stdout",
     "output_type": "stream",
     "text": [
      "6.79 µs ± 218 ns per loop (mean ± std. dev. of 7 runs, 100000 loops each)\n"
     ]
    }
   ],
   "source": [
    "%%timeit\n",
    "c = np.sum(x*m)"
   ]
  },
  {
   "cell_type": "code",
   "execution_count": 54,
   "metadata": {
    "ExecuteTime": {
     "end_time": "2020-04-03T01:12:21.588142Z",
     "start_time": "2020-04-03T01:12:21.565938Z"
    }
   },
   "outputs": [],
   "source": [
    "i = 5\n",
    "idxs = [\n",
    "    [i,i, i+1, i-1],\n",
    "    [i+1, i-1, i,i]\n",
    "]\n",
    "side = int(np.sqrt(S))\n",
    "ix = np.ravel_multi_index(idxs, (side, side))"
   ]
  },
  {
   "cell_type": "code",
   "execution_count": 55,
   "metadata": {
    "ExecuteTime": {
     "end_time": "2020-04-03T01:12:23.953188Z",
     "start_time": "2020-04-03T01:12:21.676980Z"
    }
   },
   "outputs": [
    {
     "name": "stdout",
     "output_type": "stream",
     "text": [
      "2.41 µs ± 180 ns per loop (mean ± std. dev. of 7 runs, 100000 loops each)\n"
     ]
    }
   ],
   "source": [
    "%%timeit\n",
    "nonz = [x[i] for i in ix ]\n",
    "sum(nonz)"
   ]
  },
  {
   "cell_type": "code",
   "execution_count": null,
   "metadata": {},
   "outputs": [],
   "source": []
  },
  {
   "cell_type": "code",
   "execution_count": 58,
   "metadata": {
    "ExecuteTime": {
     "end_time": "2020-04-03T01:24:31.535846Z",
     "start_time": "2020-04-03T01:24:31.531226Z"
    }
   },
   "outputs": [],
   "source": [
    "d = {1:2}"
   ]
  },
  {
   "cell_type": "code",
   "execution_count": 57,
   "metadata": {
    "ExecuteTime": {
     "end_time": "2020-04-03T01:23:52.457563Z",
     "start_time": "2020-04-03T01:23:44.262280Z"
    }
   },
   "outputs": [
    {
     "name": "stdout",
     "output_type": "stream",
     "text": [
      "999 ns ± 8.97 ns per loop (mean ± std. dev. of 7 runs, 1000000 loops each)\n"
     ]
    }
   ],
   "source": [
    "%%timeit\n",
    "np.exp(4)"
   ]
  },
  {
   "cell_type": "code",
   "execution_count": 59,
   "metadata": {
    "ExecuteTime": {
     "end_time": "2020-04-03T01:24:37.690510Z",
     "start_time": "2020-04-03T01:24:34.957797Z"
    }
   },
   "outputs": [
    {
     "name": "stdout",
     "output_type": "stream",
     "text": [
      "33.5 ns ± 1.44 ns per loop (mean ± std. dev. of 7 runs, 10000000 loops each)\n"
     ]
    }
   ],
   "source": [
    "%%timeit\n",
    "d[1]"
   ]
  },
  {
   "cell_type": "code",
   "execution_count": 60,
   "metadata": {
    "ExecuteTime": {
     "end_time": "2020-04-03T01:25:38.252399Z",
     "start_time": "2020-04-03T01:25:28.657864Z"
    }
   },
   "outputs": [
    {
     "name": "stdout",
     "output_type": "stream",
     "text": [
      "117 ns ± 0.847 ns per loop (mean ± std. dev. of 7 runs, 10000000 loops each)\n"
     ]
    }
   ],
   "source": [
    "%%timeit\n",
    "x[1]"
   ]
  }
 ],
 "metadata": {
  "jupytext": {
   "formats": "ipynb,scripts//py"
  },
  "kernelspec": {
   "display_name": "Python 3",
   "language": "python",
   "name": "python3"
  },
  "language_info": {
   "codemirror_mode": {
    "name": "ipython",
    "version": 3
   },
   "file_extension": ".py",
   "mimetype": "text/x-python",
   "name": "python",
   "nbconvert_exporter": "python",
   "pygments_lexer": "ipython3",
   "version": "3.7.7rc1+"
  },
  "toc": {
   "base_numbering": 1,
   "nav_menu": {},
   "number_sections": true,
   "sideBar": true,
   "skip_h1_title": false,
   "title_cell": "Table of Contents",
   "title_sidebar": "Contents",
   "toc_cell": true,
   "toc_position": {},
   "toc_section_display": true,
   "toc_window_display": true
  }
 },
 "nbformat": 4,
 "nbformat_minor": 4
}
