{
 "cells": [
  {
   "cell_type": "markdown",
   "metadata": {
    "toc": true
   },
   "source": [
    "<h1>Table of Contents<span class=\"tocSkip\"></span></h1>\n",
    "<div class=\"toc\"><ul class=\"toc-item\"><li><span><a href=\"#Syntetic-tests-of-cuda-vs-numpy-vs-torch\" data-toc-modified-id=\"Syntetic-tests-of-cuda-vs-numpy-vs-torch-1\"><span class=\"toc-item-num\">1&nbsp;&nbsp;</span>Syntetic tests of cuda vs numpy vs torch</a></span></li><li><span><a href=\"#Simulate-with-conv\" data-toc-modified-id=\"Simulate-with-conv-2\"><span class=\"toc-item-num\">2&nbsp;&nbsp;</span>Simulate with conv</a></span></li></ul></div>"
   ]
  },
  {
   "cell_type": "code",
   "execution_count": 1,
   "metadata": {
    "ExecuteTime": {
     "end_time": "2020-04-30T20:02:50.256290Z",
     "start_time": "2020-04-30T20:02:49.468286Z"
    }
   },
   "outputs": [],
   "source": [
    "import torch as T\n",
    "import numpy as np\n",
    "from torch.functional import F\n",
    "import matplotlib.pyplot as plt\n",
    "\n",
    "import scripts.ising as ising\n",
    "\n",
    "%load_ext autoreload\n",
    "%autoreload 2"
   ]
  },
  {
   "cell_type": "code",
   "execution_count": 2,
   "metadata": {
    "ExecuteTime": {
     "end_time": "2020-04-30T20:02:51.839854Z",
     "start_time": "2020-04-30T20:02:51.272321Z"
    }
   },
   "outputs": [
    {
     "name": "stdout",
     "output_type": "stream",
     "text": [
      "CUDA ok!\n"
     ]
    }
   ],
   "source": [
    "have_cuda = T.cuda.is_available()\n",
    "# If ever run this script beter have CUDA\n",
    "if not have_cuda:\n",
    "    raise('CUDA not available!')\n",
    "else:\n",
    "    print('CUDA ok!')"
   ]
  },
  {
   "cell_type": "markdown",
   "metadata": {},
   "source": [
    "## Syntetic tests of cuda vs numpy vs torch"
   ]
  },
  {
   "cell_type": "code",
   "execution_count": 19,
   "metadata": {
    "ExecuteTime": {
     "end_time": "2020-04-30T22:12:21.282071Z",
     "start_time": "2020-04-30T22:12:21.215699Z"
    }
   },
   "outputs": [
    {
     "name": "stdout",
     "output_type": "stream",
     "text": [
      "Overwriting scripts/torch_ising.py\n"
     ]
    }
   ],
   "source": [
    "%%writefile scripts/torch_ising.py\n",
    "import torch as T\n",
    "import numpy as np\n",
    "from itertools import product\n",
    "from torch.functional import F\n",
    "import scripts.ising as ising\n",
    "\n",
    "def get_nn_mask(J, mu):\n",
    "     return np.array([\n",
    "         [0, J, 0]\n",
    "        ,[J, mu, J]\n",
    "        ,[0, J, 0]\n",
    "    ])\n",
    "def get_funny_mask(J, mu):\n",
    "     return np.array([\n",
    "         [J, J, J/2]\n",
    "        ,[J, mu, J]\n",
    "        ,[J/2, J, -J/2]\n",
    "    ])\n",
    "\n",
    "\n",
    "def get_conv_torch(mask):\n",
    "    \"\"\" Get 2d torch convolution with mask \"\"\"\n",
    "    in_chan, out_chan = 1, 1\n",
    "    shape = mask.shape\n",
    "    l = T.nn.Conv2d(in_chan, out_chan, shape\n",
    "                        , stride=shape\n",
    "                        , padding=0\n",
    "                        , bias = False\n",
    "                       )\n",
    "    l.weight.data = T.from_numpy(mask[np.newaxis, np.newaxis, ...])\n",
    "    return l\n",
    "\n",
    "def grid_torch(grid):\n",
    "    \"\"\" Convert 2-d numpy to 4-d torch with shape 1,1,N,N \"\"\"\n",
    "    gpu_grid = T.from_numpy(grid[np.newaxis, np.newaxis,...]).double()\n",
    "    return gpu_grid\n",
    "\n",
    "\n",
    "def get_conv_nn(J, mu, device='cuda'):\n",
    "    nn_mask = get_nn_mask(J, mu)\n",
    "    conv = get_conv_torch(nn_mask)\n",
    "    return conv.to(device)\n",
    "\n",
    "def get_random_grid(N, device='cuda'):\n",
    "    g_ = grid_torch(ising.get_random_grid(N))\n",
    "    return g_.to(device)\n",
    "\n",
    "def metrop_step(grid, conv, beta):\n",
    "    rix = np.random.randint(0, high=3, size=2)\n",
    "    grid = T.roll(grid, shifts=tuple(rix), dims=(2,3))\n",
    "    \n",
    "    dE = 2*conv(grid)[0,0]\n",
    "    \n",
    "    scatter_ixs = [np.arange(1, d-1, 3) for d in grid.shape[2:]]\n",
    "    ixs = (0,0) + np.ix_(*scatter_ixs)\n",
    "    sub = grid[ixs]\n",
    "    dE = sub*dE\n",
    "    \n",
    "    acc_prob = T.exp(-beta*F.relu(dE))\n",
    "    random = T.rand_like(acc_prob)\n",
    "    sub[acc_prob > random] *= -1\n",
    "    grid[ixs] = sub\n",
    "    dE[acc_prob < random] *= 0\n",
    "    sub[acc_prob < random] *= 0\n",
    "    return grid, float(dE.sum().detach()), 2*float(sub.sum().detach())"
   ]
  },
  {
   "cell_type": "code",
   "execution_count": 5,
   "metadata": {
    "ExecuteTime": {
     "end_time": "2020-04-18T00:41:00.733717Z",
     "start_time": "2020-04-18T00:41:00.711431Z"
    }
   },
   "outputs": [],
   "source": [
    "device = T.device('cpu')    "
   ]
  },
  {
   "cell_type": "code",
   "execution_count": null,
   "metadata": {},
   "outputs": [],
   "source": [
    "conv = get_conv_torch(nn_mask)\n",
    "grid = grid_torch(ising.get_random_grid(50))\n",
    "\n",
    "gr = grid.to(device)\n",
    "conv = conv.to(device)\n",
    "print('before', grid.mean())\n",
    "dE = torch_ising(gr, conv, beta=1/2)\n",
    "print('after', grid.mean())\n"
   ]
  },
  {
   "cell_type": "markdown",
   "metadata": {},
   "source": [
    "## Simulate with conv"
   ]
  },
  {
   "cell_type": "code",
   "execution_count": 27,
   "metadata": {
    "ExecuteTime": {
     "end_time": "2020-04-18T00:08:31.229391Z",
     "start_time": "2020-04-18T00:08:31.206765Z"
    }
   },
   "outputs": [],
   "source": [
    "E = 0\n",
    "grid = grid_torch(ising.get_random_grid(500)) .to(device)"
   ]
  },
  {
   "cell_type": "code",
   "execution_count": 28,
   "metadata": {
    "ExecuteTime": {
     "end_time": "2020-04-18T00:08:31.282366Z",
     "start_time": "2020-04-18T00:08:31.231454Z"
    }
   },
   "outputs": [],
   "source": [
    "mask = get_nn_mask(.5, 0)\n",
    "#mask = get_funny_mask(.5, 0)\n",
    "conv = get_conv_torch(mask).to(device)\n",
    "\n",
    "beta = 1/2.9;\n",
    "M = float(grid.mean())\n",
    "energs = [E]\n",
    "mags = [M]"
   ]
  },
  {
   "cell_type": "code",
   "execution_count": 29,
   "metadata": {
    "ExecuteTime": {
     "end_time": "2020-04-18T00:08:38.135525Z",
     "start_time": "2020-04-18T00:08:31.285019Z"
    }
   },
   "outputs": [],
   "source": [
    "sweeps = 80\n",
    "for s in range(9*sweeps):\n",
    "    dE = metrop_step(grid, conv, beta=beta)\n",
    "    E += dE\n",
    "    energs.append(E)\n",
    "    mags.append(float(grid.mean()))"
   ]
  },
  {
   "cell_type": "code",
   "execution_count": 30,
   "metadata": {
    "ExecuteTime": {
     "end_time": "2020-04-18T00:08:38.536971Z",
     "start_time": "2020-04-18T00:08:38.136988Z"
    }
   },
   "outputs": [
    {
     "data": {
      "text/plain": [
       "[<matplotlib.lines.Line2D at 0x7f3faf4e9400>]"
      ]
     },
     "execution_count": 30,
     "metadata": {},
     "output_type": "execute_result"
    },
    {
     "data": {
      "image/png": "[encoded data removed]",
      "text/plain": [
       "<Figure size 432x288 with 1 Axes>"
      ]
     },
     "metadata": {
      "needs_background": "light"
     },
     "output_type": "display_data"
    }
   ],
   "source": [
    "plt.plot(energs)"
   ]
  },
  {
   "cell_type": "code",
   "execution_count": 31,
   "metadata": {
    "ExecuteTime": {
     "end_time": "2020-04-18T00:08:39.035199Z",
     "start_time": "2020-04-18T00:08:38.539651Z"
    }
   },
   "outputs": [
    {
     "data": {
      "text/plain": [
       "[<matplotlib.lines.Line2D at 0x7f3faf47e4f0>]"
      ]
     },
     "execution_count": 31,
     "metadata": {},
     "output_type": "execute_result"
    },
    {
     "data": {
      "image/png": "[encoded data removed]",
      "text/plain": [
       "<Figure size 432x288 with 1 Axes>"
      ]
     },
     "metadata": {
      "needs_background": "light"
     },
     "output_type": "display_data"
    }
   ],
   "source": [
    "plt.plot(mags)"
   ]
  },
  {
   "cell_type": "code",
   "execution_count": 32,
   "metadata": {
    "ExecuteTime": {
     "end_time": "2020-04-18T00:08:39.494254Z",
     "start_time": "2020-04-18T00:08:39.050140Z"
    }
   },
   "outputs": [
    {
     "data": {
      "text/plain": [
       "<matplotlib.image.AxesImage at 0x7f3fafc192b0>"
      ]
     },
     "execution_count": 32,
     "metadata": {},
     "output_type": "execute_result"
    },
    {
     "data": {
      "image/png": "[encoded data removed]",
      "text/plain": [
       "<Figure size 432x288 with 1 Axes>"
      ]
     },
     "metadata": {
      "needs_background": "light"
     },
     "output_type": "display_data"
    }
   ],
   "source": [
    "plt.imshow(grid[0,0].detach().numpy())"
   ]
  },
  {
   "cell_type": "code",
   "execution_count": 33,
   "metadata": {
    "ExecuteTime": {
     "end_time": "2020-04-18T00:08:39.518798Z",
     "start_time": "2020-04-18T00:08:39.496145Z"
    }
   },
   "outputs": [
    {
     "data": {
      "text/plain": [
       "tensor(-0.0048, dtype=torch.float64)"
      ]
     },
     "execution_count": 33,
     "metadata": {},
     "output_type": "execute_result"
    }
   ],
   "source": [
    "gr.mean()"
   ]
  },
  {
   "cell_type": "code",
   "execution_count": 34,
   "metadata": {
    "ExecuteTime": {
     "end_time": "2020-04-18T00:08:39.609840Z",
     "start_time": "2020-04-18T00:08:39.537388Z"
    }
   },
   "outputs": [
    {
     "ename": "NameError",
     "evalue": "name 'im' is not defined",
     "output_type": "error",
     "traceback": [
      "\u001b[0;31m---------------------------------------------------------------------------\u001b[0m",
      "\u001b[0;31mNameError\u001b[0m                                 Traceback (most recent call last)",
      "\u001b[0;32m<timed exec>\u001b[0m in \u001b[0;36m<module>\u001b[0;34m\u001b[0m\n",
      "\u001b[0;31mNameError\u001b[0m: name 'im' is not defined"
     ]
    }
   ],
   "source": [
    "%%time\n",
    "\n",
    "r = len(im.flatten())\n",
    "print(r)\n",
    "N = 5000\n",
    "r = int(N**2/9)\n",
    "rand = np.random.randint(0, N, size=(r, 2))\n",
    "grid = ising.get_random_grid(N)\n",
    "\n",
    "for i in range(r):\n",
    "    dE = ising.metrop_step(grid, rand[i], J, mu, 1/20, N)\n",
    "    "
   ]
  },
  {
   "cell_type": "code",
   "execution_count": 35,
   "metadata": {
    "ExecuteTime": {
     "end_time": "2020-04-18T00:08:39.674558Z",
     "start_time": "2020-04-18T00:08:39.614877Z"
    }
   },
   "outputs": [
    {
     "ename": "NameError",
     "evalue": "name 'r' is not defined",
     "output_type": "error",
     "traceback": [
      "\u001b[0;31m---------------------------------------------------------------------------\u001b[0m",
      "\u001b[0;31mNameError\u001b[0m                                 Traceback (most recent call last)",
      "\u001b[0;32m<ipython-input-35-2f6415bde286>\u001b[0m in \u001b[0;36m<module>\u001b[0;34m\u001b[0m\n\u001b[0;32m----> 1\u001b[0;31m \u001b[0mth_time\u001b[0m \u001b[0;34m=\u001b[0m \u001b[0mr\u001b[0m\u001b[0;34m*\u001b[0m\u001b[0;36m25\u001b[0m\u001b[0;34m\u001b[0m\u001b[0;34m\u001b[0m\u001b[0m\n\u001b[0m\u001b[1;32m      2\u001b[0m \u001b[0mprint\u001b[0m\u001b[0;34m(\u001b[0m\u001b[0;34m'Theoretical time for loop'\u001b[0m\u001b[0;34m,\u001b[0m \u001b[0mth_time\u001b[0m\u001b[0;34m,\u001b[0m \u001b[0;34m'microsec'\u001b[0m\u001b[0;34m)\u001b[0m\u001b[0;34m\u001b[0m\u001b[0;34m\u001b[0m\u001b[0m\n",
      "\u001b[0;31mNameError\u001b[0m: name 'r' is not defined"
     ]
    }
   ],
   "source": [
    "th_time = r*25\n",
    "print('Theoretical time for loop', th_time, 'microsec')"
   ]
  },
  {
   "cell_type": "code",
   "execution_count": null,
   "metadata": {
    "ExecuteTime": {
     "end_time": "2020-04-18T00:08:39.686075Z",
     "start_time": "2020-04-18T00:08:30.685Z"
    }
   },
   "outputs": [],
   "source": [
    "plt.imshow(grid)"
   ]
  }
 ],
 "metadata": {
  "jupytext": {
   "formats": "ipynb,scripts//py"
  },
  "kernelspec": {
   "display_name": "Python 3",
   "language": "python",
   "name": "python3"
  },
  "language_info": {
   "codemirror_mode": {
    "name": "ipython",
    "version": 3
   },
   "file_extension": ".py",
   "mimetype": "text/x-python",
   "name": "python",
   "nbconvert_exporter": "python",
   "pygments_lexer": "ipython3",
   "version": "3.8.2"
  },
  "toc": {
   "base_numbering": 1,
   "nav_menu": {},
   "number_sections": true,
   "sideBar": true,
   "skip_h1_title": false,
   "title_cell": "Table of Contents",
   "title_sidebar": "Contents",
   "toc_cell": true,
   "toc_position": {},
   "toc_section_display": true,
   "toc_window_display": false
  }
 },
 "nbformat": 4,
 "nbformat_minor": 4
}
