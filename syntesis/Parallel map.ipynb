{
 "cells": [
  {
   "cell_type": "markdown",
   "metadata": {
    "toc": true
   },
   "source": [
    "<h1>Table of Contents<span class=\"tocSkip\"></span></h1>\n",
    "<div class=\"toc\"><ul class=\"toc-item\"><li><span><a href=\"#Syntetic-tests-of-cuda-vs-numpy-vs-torch\" data-toc-modified-id=\"Syntetic-tests-of-cuda-vs-numpy-vs-torch-1\"><span class=\"toc-item-num\">1&nbsp;&nbsp;</span>Syntetic tests of cuda vs numpy vs torch</a></span></li><li><span><a href=\"#Simulate-with-conv\" data-toc-modified-id=\"Simulate-with-conv-2\"><span class=\"toc-item-num\">2&nbsp;&nbsp;</span>Simulate with conv</a></span></li></ul></div>"
   ]
  },
  {
   "cell_type": "code",
   "execution_count": 1,
   "metadata": {
    "ExecuteTime": {
     "end_time": "2020-04-13T18:41:12.571956Z",
     "start_time": "2020-04-13T18:41:11.627273Z"
    }
   },
   "outputs": [],
   "source": [
    "import torch as T\n",
    "import numpy as np\n",
    "from itertools import product\n",
    "from torch.functional import F\n",
    "import matplotlib.pyplot as plt\n",
    "\n",
    "import scripts.utils as ising\n",
    "\n",
    "%load_ext autoreload\n",
    "%autoreload 2"
   ]
  },
  {
   "cell_type": "code",
   "execution_count": 2,
   "metadata": {
    "ExecuteTime": {
     "end_time": "2020-04-13T18:41:13.232824Z",
     "start_time": "2020-04-13T18:41:12.574284Z"
    }
   },
   "outputs": [
    {
     "name": "stdout",
     "output_type": "stream",
     "text": [
      "CUDA ok!\n"
     ]
    }
   ],
   "source": [
    "have_cuda = T.cuda.is_available()\n",
    "# If ever run this script beter have CUDA\n",
    "if not have_cuda:\n",
    "    raise('CUDA not available!')\n",
    "else:\n",
    "    print('CUDA ok!')"
   ]
  },
  {
   "cell_type": "markdown",
   "metadata": {},
   "source": [
    "## Syntetic tests of cuda vs numpy vs torch"
   ]
  },
  {
   "cell_type": "code",
   "execution_count": 238,
   "metadata": {
    "ExecuteTime": {
     "end_time": "2020-04-13T19:54:04.819306Z",
     "start_time": "2020-04-13T19:54:04.483434Z"
    }
   },
   "outputs": [
    {
     "data": {
      "text/plain": [
       "<matplotlib.image.AxesImage at 0x7ff45ab52e50>"
      ]
     },
     "execution_count": 238,
     "metadata": {},
     "output_type": "execute_result"
    },
    {
     "data": {
      "image/png": "[encoded data removed]",
      "text/plain": [
       "<Figure size 432x288 with 1 Axes>"
      ]
     },
     "metadata": {
      "needs_background": "light"
     },
     "output_type": "display_data"
    }
   ],
   "source": [
    "J = .5\n",
    "mu = 0.1\n",
    "def get_nn_mask(J, mu):\n",
    "     return np.array([\n",
    "         [-J/2, J, J/2]\n",
    "        ,[J, mu, J]\n",
    "        ,[J/2, J, -J/2]\n",
    "    ])\n",
    "nn_mask = get_nn_mask(J, mu)\n",
    "plt.imshow(nn_mask)"
   ]
  },
  {
   "cell_type": "code",
   "execution_count": 239,
   "metadata": {
    "ExecuteTime": {
     "end_time": "2020-04-13T19:54:04.841260Z",
     "start_time": "2020-04-13T19:54:04.821794Z"
    }
   },
   "outputs": [
    {
     "data": {
      "text/plain": [
       "[(0, 0), (0, 1), (0, 2), (1, 0), (1, 1), (1, 2), (2, 0), (2, 1), (2, 2)]"
      ]
     },
     "execution_count": 239,
     "metadata": {},
     "output_type": "execute_result"
    }
   ],
   "source": [
    "list(product(range(3),range(3)))"
   ]
  },
  {
   "cell_type": "code",
   "execution_count": 261,
   "metadata": {
    "ExecuteTime": {
     "end_time": "2020-04-13T20:01:49.465104Z",
     "start_time": "2020-04-13T20:01:49.329103Z"
    }
   },
   "outputs": [],
   "source": [
    "def get_conv_torch(mask):\n",
    "    \"\"\" Get 2d torch convolution with mask \"\"\"\n",
    "    in_chan, out_chan = 1, 1\n",
    "    shape = mask.shape\n",
    "    l = T.nn.Conv2d(in_chan, out_chan, shape\n",
    "                        , stride=shape\n",
    "                        , padding=0\n",
    "                        , bias = False\n",
    "                       )\n",
    "    l.weight.data = T.from_numpy(mask[np.newaxis, np.newaxis, ...])\n",
    "    return l\n",
    "\n",
    "def grid_torch(grid):\n",
    "    \"\"\" Convert 2-d numpy to 4-d torch with shape 1,1,N,N \"\"\"\n",
    "    gpu_grid = T.from_numpy(grid[np.newaxis, np.newaxis,...]).double()\n",
    "    return gpu_grid\n",
    "\n",
    "def torch_ising(grid, conv, beta):\n",
    "    \n",
    "    dE = 2*conv(grid)[0,0]\n",
    "    \n",
    "    ixs = np.arange(1, grid.shape[-1]-3, 3)\n",
    "    ixs = (0,0) + np.ix_(ixs, ixs)\n",
    "    sub = grid[ixs]\n",
    "    dE = sub*dE\n",
    "    \n",
    "    acc_prob = T.exp(-beta*F.relu(dE))\n",
    "    random = T.rand_like(acc_prob)\n",
    "    sub[acc_prob > random] *= -1\n",
    "    grid[ixs] = sub\n",
    "    return grid, float(dE.sum().detach()), acc_prob\n",
    "   "
   ]
  },
  {
   "cell_type": "code",
   "execution_count": 262,
   "metadata": {
    "ExecuteTime": {
     "end_time": "2020-04-13T20:01:49.485334Z",
     "start_time": "2020-04-13T20:01:49.468274Z"
    }
   },
   "outputs": [],
   "source": [
    "device = T.device('cpu')    "
   ]
  },
  {
   "cell_type": "code",
   "execution_count": 263,
   "metadata": {
    "ExecuteTime": {
     "end_time": "2020-04-13T20:01:50.543469Z",
     "start_time": "2020-04-13T20:01:50.179714Z"
    }
   },
   "outputs": [
    {
     "name": "stdout",
     "output_type": "stream",
     "text": [
      "before tensor(-0.0360, dtype=torch.float64)\n",
      "after tensor(-0.0336, dtype=torch.float64)\n"
     ]
    },
    {
     "data": {
      "text/plain": [
       "<matplotlib.image.AxesImage at 0x7ff45a89a880>"
      ]
     },
     "execution_count": 263,
     "metadata": {},
     "output_type": "execute_result"
    },
    {
     "data": {
      "image/png": "[encoded data removed]",
      "text/plain": [
       "<Figure size 432x288 with 1 Axes>"
      ]
     },
     "metadata": {
      "needs_background": "light"
     },
     "output_type": "display_data"
    }
   ],
   "source": [
    "conv = get_conv_torch(nn_mask)\n",
    "grid = grid_torch(ising.get_random_grid(50))\n",
    "\n",
    "gr = grid.to(device)\n",
    "conv = conv.to(device)\n",
    "print('before', grid.mean())\n",
    "grid, dE, acc = torch_ising(gr, conv, beta=1/2)\n",
    "print('after', grid.mean())\n",
    "plt.imshow(acc.detach().numpy())\n"
   ]
  },
  {
   "cell_type": "markdown",
   "metadata": {},
   "source": [
    "## Simulate with conv"
   ]
  },
  {
   "cell_type": "code",
   "execution_count": 271,
   "metadata": {
    "ExecuteTime": {
     "end_time": "2020-04-13T20:03:42.599698Z",
     "start_time": "2020-04-13T20:03:42.583391Z"
    }
   },
   "outputs": [],
   "source": [
    "sweeps = 80\n",
    "E = 0\n",
    "\n",
    "mask = get_nn_mask(.5, 0)\n",
    "beta = 1/.5\n",
    "grid = grid_torch(ising.get_random_grid(500)) .to(device)\n",
    "conv = get_conv_torch(mask)                  .to(device)\n",
    "\n",
    "E = 0\n",
    "M = float(grid.mean())\n",
    "energs = [E]\n",
    "mags = [M]"
   ]
  },
  {
   "cell_type": "code",
   "execution_count": 272,
   "metadata": {
    "ExecuteTime": {
     "end_time": "2020-04-13T20:03:48.182599Z",
     "start_time": "2020-04-13T20:03:42.709241Z"
    }
   },
   "outputs": [],
   "source": [
    "for s in range(9*sweeps):\n",
    "    grid, dE, acc = torch_ising(grid, conv, beta=beta)\n",
    "    rix = np.random.randint(0,3,2)\n",
    "    grid = T.roll(grid, tuple(rix), dims=(2,3))\n",
    "    E += dE\n",
    "    energs.append(dE)\n",
    "    mags.append(float(grid.mean()))"
   ]
  },
  {
   "cell_type": "code",
   "execution_count": 273,
   "metadata": {
    "ExecuteTime": {
     "end_time": "2020-04-13T20:03:49.714676Z",
     "start_time": "2020-04-13T20:03:49.460021Z"
    }
   },
   "outputs": [
    {
     "data": {
      "text/plain": [
       "[<matplotlib.lines.Line2D at 0x7ff45a738910>]"
      ]
     },
     "execution_count": 273,
     "metadata": {},
     "output_type": "execute_result"
    },
    {
     "data": {
      "image/png": "[encoded data removed]",
      "text/plain": [
       "<Figure size 432x288 with 1 Axes>"
      ]
     },
     "metadata": {
      "needs_background": "light"
     },
     "output_type": "display_data"
    }
   ],
   "source": [
    "plt.plot(energs)"
   ]
  },
  {
   "cell_type": "code",
   "execution_count": 274,
   "metadata": {
    "ExecuteTime": {
     "end_time": "2020-04-13T20:03:57.212625Z",
     "start_time": "2020-04-13T20:03:56.928645Z"
    }
   },
   "outputs": [
    {
     "data": {
      "text/plain": [
       "[<matplotlib.lines.Line2D at 0x7ff45a693280>]"
      ]
     },
     "execution_count": 274,
     "metadata": {},
     "output_type": "execute_result"
    },
    {
     "data": {
      "image/png": "[encoded data removed]",
      "text/plain": [
       "<Figure size 432x288 with 1 Axes>"
      ]
     },
     "metadata": {
      "needs_background": "light"
     },
     "output_type": "display_data"
    }
   ],
   "source": [
    "plt.plot(mags)"
   ]
  },
  {
   "cell_type": "code",
   "execution_count": 275,
   "metadata": {
    "ExecuteTime": {
     "end_time": "2020-04-13T20:03:58.459405Z",
     "start_time": "2020-04-13T20:03:58.110824Z"
    }
   },
   "outputs": [
    {
     "data": {
      "text/plain": [
       "<matplotlib.image.AxesImage at 0x7ff45a66b1c0>"
      ]
     },
     "execution_count": 275,
     "metadata": {},
     "output_type": "execute_result"
    },
    {
     "data": {
      "image/png": "[encoded data removed]",
      "text/plain": [
       "<Figure size 432x288 with 1 Axes>"
      ]
     },
     "metadata": {
      "needs_background": "light"
     },
     "output_type": "display_data"
    }
   ],
   "source": [
    "plt.imshow(grid[0,0].detach().numpy())"
   ]
  },
  {
   "cell_type": "code",
   "execution_count": 254,
   "metadata": {
    "ExecuteTime": {
     "end_time": "2020-04-13T19:54:41.501511Z",
     "start_time": "2020-04-13T19:54:41.453658Z"
    }
   },
   "outputs": [
    {
     "data": {
      "text/plain": [
       "tensor(0.0096, dtype=torch.float64)"
      ]
     },
     "execution_count": 254,
     "metadata": {},
     "output_type": "execute_result"
    }
   ],
   "source": [
    "gr.mean()"
   ]
  },
  {
   "cell_type": "code",
   "execution_count": 54,
   "metadata": {
    "ExecuteTime": {
     "end_time": "2020-04-11T19:00:28.419856Z",
     "start_time": "2020-04-11T18:59:45.273322Z"
    }
   },
   "outputs": [
    {
     "name": "stdout",
     "output_type": "stream",
     "text": [
      "25000000\n",
      "CPU times: user 42.5 s, sys: 192 ms, total: 42.7 s\n",
      "Wall time: 43.1 s\n"
     ]
    }
   ],
   "source": [
    "%%time\n",
    "\n",
    "r = len(im.flatten())\n",
    "print(r)\n",
    "N = 5000\n",
    "r = int(N**2/9)\n",
    "rand = np.random.randint(0, N, size=(r, 2))\n",
    "grid = ising.get_random_grid(N)\n",
    "\n",
    "for i in range(r):\n",
    "    dE = ising.metrop_step(grid, rand[i], J, mu, 1/20, N)\n",
    "    "
   ]
  },
  {
   "cell_type": "code",
   "execution_count": 55,
   "metadata": {
    "ExecuteTime": {
     "end_time": "2020-04-11T19:00:59.872326Z",
     "start_time": "2020-04-11T19:00:59.824745Z"
    }
   },
   "outputs": [
    {
     "name": "stdout",
     "output_type": "stream",
     "text": [
      "Theoretical time for loop 69444425 microsec\n"
     ]
    }
   ],
   "source": [
    "th_time = r*25\n",
    "print('Theoretical time for loop', th_time, 'microsec')"
   ]
  },
  {
   "cell_type": "code",
   "execution_count": 56,
   "metadata": {
    "ExecuteTime": {
     "end_time": "2020-04-11T19:01:11.978519Z",
     "start_time": "2020-04-11T19:01:11.215135Z"
    }
   },
   "outputs": [
    {
     "data": {
      "text/plain": [
       "<matplotlib.image.AxesImage at 0x7fc393c94ac0>"
      ]
     },
     "execution_count": 56,
     "metadata": {},
     "output_type": "execute_result"
    },
    {
     "data": {
      "image/png": "[encoded data removed]",
      "text/plain": [
       "<Figure size 432x288 with 1 Axes>"
      ]
     },
     "metadata": {
      "needs_background": "light"
     },
     "output_type": "display_data"
    }
   ],
   "source": [
    "plt.imshow(grid)"
   ]
  },
  {
   "cell_type": "code",
   "execution_count": null,
   "metadata": {},
   "outputs": [],
   "source": []
  }
 ],
 "metadata": {
  "jupytext": {
   "formats": "ipynb,scripts//py"
  },
  "kernelspec": {
   "display_name": "Python 3",
   "language": "python",
   "name": "python3"
  },
  "language_info": {
   "codemirror_mode": {
    "name": "ipython",
    "version": 3
   },
   "file_extension": ".py",
   "mimetype": "text/x-python",
   "name": "python",
   "nbconvert_exporter": "python",
   "pygments_lexer": "ipython3",
   "version": "3.8.2"
  },
  "toc": {
   "base_numbering": 1,
   "nav_menu": {},
   "number_sections": true,
   "sideBar": true,
   "skip_h1_title": false,
   "title_cell": "Table of Contents",
   "title_sidebar": "Contents",
   "toc_cell": true,
   "toc_position": {},
   "toc_section_display": true,
   "toc_window_display": true
  }
 },
 "nbformat": 4,
 "nbformat_minor": 4
}
