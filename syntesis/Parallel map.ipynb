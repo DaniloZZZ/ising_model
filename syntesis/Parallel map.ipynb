{
 "cells": [
  {
   "cell_type": "markdown",
   "metadata": {
    "toc": true
   },
   "source": [
    "<h1>Table of Contents<span class=\"tocSkip\"></span></h1>\n",
    "<div class=\"toc\"><ul class=\"toc-item\"><li><span><a href=\"#Syntetic-tests-of-cuda-vs-numpy-vs-torch\" data-toc-modified-id=\"Syntetic-tests-of-cuda-vs-numpy-vs-torch-1\"><span class=\"toc-item-num\">1&nbsp;&nbsp;</span>Syntetic tests of cuda vs numpy vs torch</a></span></li></ul></div>"
   ]
  },
  {
   "cell_type": "code",
   "execution_count": 18,
   "metadata": {
    "ExecuteTime": {
     "end_time": "2020-04-11T03:53:19.691222Z",
     "start_time": "2020-04-11T03:53:19.663397Z"
    }
   },
   "outputs": [
    {
     "name": "stdout",
     "output_type": "stream",
     "text": [
      "The autoreload extension is already loaded. To reload it, use:\n",
      "  %reload_ext autoreload\n"
     ]
    }
   ],
   "source": [
    "import torch\n",
    "import numpy as np\n",
    "import matplotlib.pyplot as plt\n",
    "\n",
    "import scripts.utils as ising\n",
    "\n",
    "%load_ext autoreload\n",
    "%autoreload 2"
   ]
  },
  {
   "cell_type": "code",
   "execution_count": 6,
   "metadata": {
    "ExecuteTime": {
     "end_time": "2020-04-11T03:30:49.372868Z",
     "start_time": "2020-04-11T03:30:49.364661Z"
    }
   },
   "outputs": [
    {
     "name": "stdout",
     "output_type": "stream",
     "text": [
      "CUDA ok!\n"
     ]
    }
   ],
   "source": [
    "have_cuda = torch.cuda.is_available()\n",
    "# If ever run this script beter have CUDA\n",
    "if not have_cuda:\n",
    "    raise('CUDA not available!')\n",
    "else:\n",
    "    print('CUDA ok!')"
   ]
  },
  {
   "cell_type": "markdown",
   "metadata": {},
   "source": [
    "## Syntetic tests of cuda vs numpy vs torch"
   ]
  },
  {
   "cell_type": "code",
   "execution_count": 10,
   "metadata": {
    "ExecuteTime": {
     "end_time": "2020-04-11T03:42:32.352983Z",
     "start_time": "2020-04-11T03:42:32.073936Z"
    }
   },
   "outputs": [
    {
     "data": {
      "text/plain": [
       "<matplotlib.image.AxesImage at 0x7f3fd05de6a0>"
      ]
     },
     "execution_count": 10,
     "metadata": {},
     "output_type": "execute_result"
    },
    {
     "data": {
      "image/png": "[encoded data removed]",
      "text/plain": [
       "<Figure size 432x288 with 1 Axes>"
      ]
     },
     "metadata": {
      "needs_background": "light"
     },
     "output_type": "display_data"
    }
   ],
   "source": [
    "J = .5\n",
    "mu = 0.1\n",
    "nn_mask = np.array([\n",
    "     [0, J, 0]\n",
    "    ,[J, mu, J]\n",
    "    ,[0, J, 0]\n",
    "])\n",
    "plt.imshow(nn_mask)"
   ]
  },
  {
   "cell_type": "code",
   "execution_count": 37,
   "metadata": {
    "ExecuteTime": {
     "end_time": "2020-04-11T04:05:42.277457Z",
     "start_time": "2020-04-11T04:05:41.266433Z"
    }
   },
   "outputs": [
    {
     "name": "stdout",
     "output_type": "stream",
     "text": [
      "108 µs ± 9.87 µs per loop (mean ± std. dev. of 7 runs, 1000 loops each)\n"
     ]
    }
   ],
   "source": [
    "def get_conv_torch(mask):\n",
    "    in_chan, out_chan = 1, 1\n",
    "    shape = mask.shape\n",
    "    l = torch.nn.Conv2d(in_chan, out_chan, shape\n",
    "                        , stride=shape\n",
    "                        , padding=0\n",
    "                        , bias = False\n",
    "                       )\n",
    "    l.weight.data = torch.from_numpy(mask[np.newaxis, np.newaxis, ...])\n",
    "    return l\n",
    "\n",
    "def cuda_contr(grid, mask):\n",
    "    conv = get_conv_torch(mask)\n",
    "    return conv(grid)\n",
    "    \n",
    "\n",
    "    \n",
    "grid = ising.get_random_grid(50)\n",
    "gpu_grid = torch.from_numpy(grid[np.newaxis, np.newaxis,...]).double()\n",
    "%timeit c = cuda_contr(gpu_grid, nn_mask)\n",
    "im = c.detach().numpy()[0,0]"
   ]
  },
  {
   "cell_type": "code",
   "execution_count": 38,
   "metadata": {
    "ExecuteTime": {
     "end_time": "2020-04-11T04:05:46.196055Z",
     "start_time": "2020-04-11T04:05:45.948277Z"
    }
   },
   "outputs": [
    {
     "data": {
      "text/plain": [
       "<matplotlib.image.AxesImage at 0x7f3fcd1edc70>"
      ]
     },
     "execution_count": 38,
     "metadata": {},
     "output_type": "execute_result"
    },
    {
     "data": {
      "image/png": "[encoded data removed]",
      "text/plain": [
       "<Figure size 432x288 with 1 Axes>"
      ]
     },
     "metadata": {
      "needs_background": "light"
     },
     "output_type": "display_data"
    }
   ],
   "source": [
    "plt.imshow(im)"
   ]
  },
  {
   "cell_type": "code",
   "execution_count": 35,
   "metadata": {
    "ExecuteTime": {
     "end_time": "2020-04-11T04:04:54.346601Z",
     "start_time": "2020-04-11T04:04:54.139295Z"
    }
   },
   "outputs": [
    {
     "data": {
      "text/plain": [
       "<matplotlib.image.AxesImage at 0x7f3fcd1e4460>"
      ]
     },
     "execution_count": 35,
     "metadata": {},
     "output_type": "execute_result"
    },
    {
     "data": {
      "image/png": "[encoded data removed]",
      "text/plain": [
       "<Figure size 432x288 with 1 Axes>"
      ]
     },
     "metadata": {
      "needs_background": "light"
     },
     "output_type": "display_data"
    }
   ],
   "source": [
    "plt.imshow(grid)"
   ]
  },
  {
   "cell_type": "code",
   "execution_count": null,
   "metadata": {},
   "outputs": [],
   "source": []
  }
 ],
 "metadata": {
  "kernelspec": {
   "display_name": "Python 3",
   "language": "python",
   "name": "python3"
  },
  "language_info": {
   "codemirror_mode": {
    "name": "ipython",
    "version": 3
   },
   "file_extension": ".py",
   "mimetype": "text/x-python",
   "name": "python",
   "nbconvert_exporter": "python",
   "pygments_lexer": "ipython3",
   "version": "3.8.2"
  },
  "toc": {
   "base_numbering": 1,
   "nav_menu": {},
   "number_sections": true,
   "sideBar": true,
   "skip_h1_title": false,
   "title_cell": "Table of Contents",
   "title_sidebar": "Contents",
   "toc_cell": true,
   "toc_position": {},
   "toc_section_display": true,
   "toc_window_display": true
  }
 },
 "nbformat": 4,
 "nbformat_minor": 4
}
