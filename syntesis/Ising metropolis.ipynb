{
 "cells": [
  {
   "cell_type": "markdown",
   "metadata": {
    "toc": true
   },
   "source": [
    "<h1>Table of Contents<span class=\"tocSkip\"></span></h1>\n",
    "<div class=\"toc\"><ul class=\"toc-item\"><li><span><a href=\"#Simple-first-run\" data-toc-modified-id=\"Simple-first-run-1\"><span class=\"toc-item-num\">1&nbsp;&nbsp;</span>Simple first run</a></span></li></ul></div>"
   ]
  },
  {
   "cell_type": "code",
   "execution_count": 1,
   "metadata": {
    "ExecuteTime": {
     "end_time": "2020-04-10T19:18:43.385837Z",
     "start_time": "2020-04-10T19:18:42.867213Z"
    }
   },
   "outputs": [],
   "source": [
    "import numpy as np\n",
    "import matplotlib.pyplot as plt"
   ]
  },
  {
   "cell_type": "markdown",
   "metadata": {},
   "source": [
    "## Simple first run\n",
    "\n",
    "1. Iniatilize NxN grid\n",
    "2. Compute the initial energy $E$\n",
    "3. Flip random spin and compute $\\Delta E$\n",
    "4. Accept or reject based on criteria\n",
    "5. Continue to 3"
   ]
  },
  {
   "cell_type": "code",
   "execution_count": 172,
   "metadata": {
    "ExecuteTime": {
     "end_time": "2020-04-10T21:38:22.713964Z",
     "start_time": "2020-04-10T21:38:22.698171Z"
    }
   },
   "outputs": [
    {
     "data": {
      "text/plain": [
       "{'divide': 'warn', 'over': 'raise', 'under': 'ignore', 'invalid': 'warn'}"
      ]
     },
     "execution_count": 172,
     "metadata": {},
     "output_type": "execute_result"
    }
   ],
   "source": [
    "# Insight from using full energy\n",
    "np.seterr(over='raise')"
   ]
  },
  {
   "cell_type": "code",
   "execution_count": 187,
   "metadata": {
    "ExecuteTime": {
     "end_time": "2020-04-10T21:38:56.238628Z",
     "start_time": "2020-04-10T21:38:55.992632Z"
    }
   },
   "outputs": [
    {
     "data": {
      "image/png": "[encoded data removed]",
      "text/plain": [
       "<Figure size 432x288 with 1 Axes>"
      ]
     },
     "metadata": {
      "needs_background": "light"
     },
     "output_type": "display_data"
    }
   ],
   "source": [
    "N = 20\n",
    "grid = np.random.randint(low=0, high=2, size=(N, N))\n",
    "plt.imshow(grid)\n",
    "# Rescale to +-1\n",
    "grid = -1 + 2*grid"
   ]
  },
  {
   "cell_type": "code",
   "execution_count": 188,
   "metadata": {
    "ExecuteTime": {
     "end_time": "2020-04-10T21:38:56.625208Z",
     "start_time": "2020-04-10T21:38:56.352936Z"
    }
   },
   "outputs": [
    {
     "name": "stdout",
     "output_type": "stream",
     "text": [
      "Starting energy -960\n"
     ]
    }
   ],
   "source": [
    "beta = 1/10\n",
    "\n",
    "# This is not efficient, but is clear to read\n",
    "E = 0\n",
    "e_0 = 30\n",
    "for i in range(N):\n",
    "    for j in range(N):\n",
    "        E += -e_0*int(grid[i,j] * grid[(i+1)%N, j])\n",
    "        E += -e_0*int(grid[i,j] * grid[i-1, j])\n",
    "        E += -e_0*int(grid[i,j] * grid[i, (j+1)%N])\n",
    "        E += -e_0*int(grid[i,j] * grid[i, j-1])\n",
    "\n",
    "        \n",
    "averages = []\n",
    "energies = []\n",
    "print('Starting energy', E)\n",
    "for n in range(int(1e3)):\n",
    "    averages.append(np.mean(grid))\n",
    "    energies.append(E)\n",
    "    i, j = (np.random.randint(0, N, size=(2,)))\n",
    "    x = grid[i, j]\n",
    "    grid[i, j] = - x\n",
    "    dE = 0\n",
    "    dE += x * grid[(i+1)%20, j]\n",
    "    dE += x * grid[i-1, j]\n",
    "    dE += x * grid[i, (j+1)%20]\n",
    "    dE += x * grid[i, j-1]\n",
    "    dE -= x\n",
    "    dE *= 2*e_0\n",
    "    \n",
    "    accept_p = min(1, np.exp(-beta*dE))\n",
    "    \n",
    "    if accept_p>np.random.rand():\n",
    "        E = E + dE\n",
    "    else:\n",
    "        #reset it back\n",
    "        grid[i, j] = x\n",
    "    "
   ]
  },
  {
   "cell_type": "code",
   "execution_count": 189,
   "metadata": {
    "ExecuteTime": {
     "end_time": "2020-04-10T21:38:58.216346Z",
     "start_time": "2020-04-10T21:38:57.810161Z"
    },
    "scrolled": false
   },
   "outputs": [
    {
     "data": {
      "text/plain": [
       "<matplotlib.legend.Legend at 0x7f1b42621a90>"
      ]
     },
     "execution_count": 189,
     "metadata": {},
     "output_type": "execute_result"
    },
    {
     "data": {
      "image/png": "[encoded data removed]",
      "text/plain": [
       "<Figure size 360x360 with 2 Axes>"
      ]
     },
     "metadata": {
      "needs_background": "light"
     },
     "output_type": "display_data"
    }
   ],
   "source": [
    "fig, axs = plt.subplots(2,1, figsize=(5,5))\n",
    "plt.plot(averages, label='average occupation') \n",
    "plt.legend()\n",
    "plt.sca(axs[0])\n",
    "plt.plot(energies, label='Energy', color='orange') \n",
    "plt.legend()"
   ]
  },
  {
   "cell_type": "code",
   "execution_count": 190,
   "metadata": {
    "ExecuteTime": {
     "end_time": "2020-04-10T21:38:59.271315Z",
     "start_time": "2020-04-10T21:38:58.921171Z"
    }
   },
   "outputs": [
    {
     "data": {
      "text/plain": [
       "<matplotlib.image.AxesImage at 0x7f1b424c8590>"
      ]
     },
     "execution_count": 190,
     "metadata": {},
     "output_type": "execute_result"
    },
    {
     "data": {
      "image/png": "[encoded data removed]",
      "text/plain": [
       "<Figure size 432x288 with 1 Axes>"
      ]
     },
     "metadata": {
      "needs_background": "light"
     },
     "output_type": "display_data"
    }
   ],
   "source": [
    "plt.imshow(grid)"
   ]
  },
  {
   "cell_type": "code",
   "execution_count": null,
   "metadata": {},
   "outputs": [],
   "source": []
  }
 ],
 "metadata": {
  "kernelspec": {
   "display_name": "Python 3",
   "language": "python",
   "name": "python3"
  },
  "language_info": {
   "codemirror_mode": {
    "name": "ipython",
    "version": 3
   },
   "file_extension": ".py",
   "mimetype": "text/x-python",
   "name": "python",
   "nbconvert_exporter": "python",
   "pygments_lexer": "ipython3",
   "version": "3.7.7rc1+"
  },
  "toc": {
   "base_numbering": 1,
   "nav_menu": {},
   "number_sections": true,
   "sideBar": true,
   "skip_h1_title": false,
   "title_cell": "Table of Contents",
   "title_sidebar": "Contents",
   "toc_cell": true,
   "toc_position": {},
   "toc_section_display": true,
   "toc_window_display": true
  }
 },
 "nbformat": 4,
 "nbformat_minor": 4
}
