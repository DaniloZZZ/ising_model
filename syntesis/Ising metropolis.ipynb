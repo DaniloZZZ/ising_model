{
 "cells": [
  {
   "cell_type": "markdown",
   "metadata": {
    "toc": true
   },
   "source": [
    "<h1>Table of Contents<span class=\"tocSkip\"></span></h1>\n",
    "<div class=\"toc\"><ul class=\"toc-item\"><li><span><a href=\"#Simple-first-run\" data-toc-modified-id=\"Simple-first-run-1\"><span class=\"toc-item-num\">1&nbsp;&nbsp;</span>Simple first run</a></span></li><li><span><a href=\"#Use-pytorch-convolution\" data-toc-modified-id=\"Use-pytorch-convolution-2\"><span class=\"toc-item-num\">2&nbsp;&nbsp;</span>Use pytorch convolution</a></span></li><li><span><a href=\"#Save-data-for-later-analysis-and-plotting\" data-toc-modified-id=\"Save-data-for-later-analysis-and-plotting-3\"><span class=\"toc-item-num\">3&nbsp;&nbsp;</span>Save data for later analysis and plotting</a></span></li><li><span><a href=\"#Use-simple-serial-algorithm\" data-toc-modified-id=\"Use-simple-serial-algorithm-4\"><span class=\"toc-item-num\">4&nbsp;&nbsp;</span>Use simple serial algorithm</a></span></li></ul></div>"
   ]
  },
  {
   "cell_type": "code",
   "execution_count": 1,
   "metadata": {
    "ExecuteTime": {
     "end_time": "2020-05-01T20:27:47.005687Z",
     "start_time": "2020-05-01T20:27:43.599990Z"
    }
   },
   "outputs": [
    {
     "data": {
      "text/plain": [
       "{'divide': 'warn', 'over': 'warn', 'under': 'ignore', 'invalid': 'warn'}"
      ]
     },
     "execution_count": 1,
     "metadata": {},
     "output_type": "execute_result"
    }
   ],
   "source": [
    "import numpy as np\n",
    "from tqdm import tqdm\n",
    "import matplotlib.pyplot as plt\n",
    "from scripts import ising\n",
    "from scripts import torch_ising\n",
    "\n",
    "%load_ext autoreload\n",
    "%autoreload 2\n",
    "\n",
    "# Insight from using full energy\n",
    "np.seterr(over='raise')"
   ]
  },
  {
   "cell_type": "markdown",
   "metadata": {},
   "source": [
    "## Simple first run\n",
    "\n",
    "1. Iniatilize NxN grid\n",
    "2. Compute the initial energy $E$\n",
    "3. Flip random spin and compute $\\Delta E$\n",
    "4. Accept or reject based on criteria\n",
    "5. Continue to 3"
   ]
  },
  {
   "cell_type": "code",
   "execution_count": 2,
   "metadata": {
    "ExecuteTime": {
     "end_time": "2020-05-01T20:27:47.021365Z",
     "start_time": "2020-05-01T20:27:47.007492Z"
    }
   },
   "outputs": [],
   "source": [
    "#@profile\n",
    "def random_ix(N, steps):\n",
    "    randix = (np.random.randint(0, N, size=(steps,2)))\n",
    "    return randix"
   ]
  },
  {
   "cell_type": "code",
   "execution_count": 22,
   "metadata": {
    "ExecuteTime": {
     "end_time": "2020-05-01T20:56:18.307113Z",
     "start_time": "2020-05-01T20:56:18.292002Z"
    }
   },
   "outputs": [],
   "source": [
    "N = 100\n",
    "grid = ising.get_random_grid(N)"
   ]
  },
  {
   "cell_type": "markdown",
   "metadata": {},
   "source": [
    "## Use pytorch convolution"
   ]
  },
  {
   "cell_type": "code",
   "execution_count": null,
   "metadata": {
    "ExecuteTime": {
     "start_time": "2020-05-01T20:59:05.551Z"
    },
    "lines_to_next_cell": 2
   },
   "outputs": [
    {
     "name": "stderr",
     "output_type": "stream",
     "text": [
      "\n",
      "\n",
      "\n",
      "\n",
      "  0%|          | 0/100 [00:00<?, ?it/s]\u001b[A\u001b[A\u001b[A\u001b[A\n",
      "\n",
      "\n",
      "\n",
      "  1%|          | 1/100 [00:12<19:52, 12.04s/it]\u001b[A\u001b[A\u001b[A\u001b[A\n",
      "\n",
      "\n",
      "\n",
      "  2%|▏         | 2/100 [00:24<20:03, 12.28s/it]\u001b[A\u001b[A\u001b[A\u001b[A\n",
      "\n",
      "\n",
      "\n",
      "  3%|▎         | 3/100 [00:37<20:04, 12.42s/it]\u001b[A\u001b[A\u001b[A\u001b[A\n",
      "\n",
      "\n",
      "\n",
      "  4%|▍         | 4/100 [00:51<20:39, 12.91s/it]\u001b[A\u001b[A\u001b[A\u001b[A\n",
      "\n",
      "\n",
      "\n",
      "  5%|▌         | 5/100 [01:05<21:04, 13.31s/it]\u001b[A\u001b[A\u001b[A\u001b[A\n",
      "\n",
      "\n",
      "\n",
      "  6%|▌         | 6/100 [01:20<21:33, 13.76s/it]\u001b[A\u001b[A\u001b[A\u001b[A\n",
      "\n",
      "\n",
      "\n",
      "  7%|▋         | 7/100 [01:36<22:21, 14.43s/it]\u001b[A\u001b[A\u001b[A\u001b[A\n",
      "\n",
      "\n",
      "\n",
      "  8%|▊         | 8/100 [01:52<22:31, 14.69s/it]\u001b[A\u001b[A\u001b[A\u001b[A\n",
      "\n",
      "\n",
      "\n",
      "  9%|▉         | 9/100 [02:05<21:31, 14.19s/it]\u001b[A\u001b[A\u001b[A\u001b[A\n",
      "\n",
      "\n",
      "\n",
      " 10%|█         | 10/100 [02:16<20:15, 13.50s/it]\u001b[A\u001b[A\u001b[A\u001b[A\n",
      "\n",
      "\n",
      "\n",
      " 11%|█         | 11/100 [02:30<20:15, 13.66s/it]\u001b[A\u001b[A\u001b[A\u001b[A\n",
      "\n",
      "\n",
      "\n",
      " 12%|█▏        | 12/100 [02:43<19:38, 13.39s/it]\u001b[A\u001b[A\u001b[A\u001b[A\n",
      "\n",
      "\n",
      "\n",
      " 13%|█▎        | 13/100 [02:57<19:23, 13.37s/it]\u001b[A\u001b[A\u001b[A\u001b[A\n",
      "\n",
      "\n",
      "\n",
      " 14%|█▍        | 14/100 [03:10<19:10, 13.37s/it]\u001b[A\u001b[A\u001b[A\u001b[A\n",
      "\n",
      "\n",
      "\n",
      " 15%|█▌        | 15/100 [03:26<19:54, 14.06s/it]\u001b[A\u001b[A\u001b[A\u001b[A\n",
      "\n",
      "\n",
      "\n",
      " 16%|█▌        | 16/100 [03:46<22:29, 16.06s/it]\u001b[A\u001b[A\u001b[A\u001b[A\n",
      "\n",
      "\n",
      "\n",
      " 17%|█▋        | 17/100 [04:00<21:24, 15.47s/it]\u001b[A\u001b[A\u001b[A\u001b[A\n",
      "\n",
      "\n",
      "\n",
      " 18%|█▊        | 18/100 [04:13<19:55, 14.58s/it]\u001b[A\u001b[A\u001b[A\u001b[A\n",
      "\n",
      "\n",
      "\n",
      " 19%|█▉        | 19/100 [04:28<19:41, 14.59s/it]\u001b[A\u001b[A\u001b[A\u001b[A\n",
      "\n",
      "\n",
      "\n",
      " 20%|██        | 20/100 [04:41<18:55, 14.20s/it]\u001b[A\u001b[A\u001b[A\u001b[A\n",
      "\n",
      "\n",
      "\n",
      " 21%|██        | 21/100 [04:55<18:43, 14.22s/it]\u001b[A\u001b[A\u001b[A\u001b[A\n",
      "\n",
      "\n",
      "\n",
      " 22%|██▏       | 22/100 [05:09<18:33, 14.27s/it]\u001b[A\u001b[A\u001b[A\u001b[A\n",
      "\n",
      "\n",
      "\n",
      " 23%|██▎       | 23/100 [05:26<18:59, 14.80s/it]\u001b[A\u001b[A\u001b[A\u001b[A\n",
      "\n",
      "\n",
      "\n",
      " 24%|██▍       | 24/100 [05:40<18:36, 14.68s/it]\u001b[A\u001b[A\u001b[A\u001b[A\n",
      "\n",
      "\n",
      "\n",
      " 25%|██▌       | 25/100 [05:52<17:32, 14.03s/it]\u001b[A\u001b[A\u001b[A\u001b[A\n",
      "\n",
      "\n",
      "\n",
      " 26%|██▌       | 26/100 [06:05<16:47, 13.61s/it]\u001b[A\u001b[A\u001b[A\u001b[A\n",
      "\n",
      "\n",
      "\n",
      " 27%|██▋       | 27/100 [06:18<16:16, 13.38s/it]\u001b[A\u001b[A\u001b[A\u001b[A\n",
      "\n",
      "\n",
      "\n",
      " 28%|██▊       | 28/100 [06:34<16:56, 14.12s/it]\u001b[A\u001b[A\u001b[A\u001b[A\n",
      "\n",
      "\n",
      "\n",
      " 29%|██▉       | 29/100 [06:50<17:33, 14.84s/it]\u001b[A\u001b[A\u001b[A\u001b[A\n",
      "\n",
      "\n",
      "\n",
      " 30%|███       | 30/100 [07:06<17:28, 14.98s/it]\u001b[A\u001b[A\u001b[A\u001b[A\n",
      "\n",
      "\n",
      "\n",
      " 31%|███       | 31/100 [07:20<17:10, 14.93s/it]\u001b[A\u001b[A\u001b[A\u001b[A\n",
      "\n",
      "\n",
      "\n",
      " 32%|███▏      | 32/100 [07:34<16:24, 14.48s/it]\u001b[A\u001b[A\u001b[A\u001b[A\n",
      "\n",
      "\n",
      "\n",
      " 33%|███▎      | 33/100 [07:46<15:29, 13.87s/it]\u001b[A\u001b[A\u001b[A\u001b[A\n",
      "\n",
      "\n",
      "\n",
      " 34%|███▍      | 34/100 [08:05<16:44, 15.22s/it]\u001b[A\u001b[A\u001b[A\u001b[A\n",
      "\n",
      "\n",
      "\n",
      " 35%|███▌      | 35/100 [08:17<15:37, 14.42s/it]\u001b[A\u001b[A\u001b[A\u001b[A"
     ]
    }
   ],
   "source": [
    "J = 0.5\n",
    "mu = 0\n",
    "\n",
    "temps = np.linspace(0.05, 3, 100)\n",
    "eneg_tm = []\n",
    "mag_tm = []\n",
    "grid = torch_ising.get_random_grid(N, device='cpu')\n",
    "for T in tqdm(temps):\n",
    "    beta = 1/T\n",
    "    \n",
    "    # Thermalise    \n",
    "    therm_sweeps = 1500\n",
    "    conv = torch_ising.get_conv_nn(J, mu, device='cpu')\n",
    "    for ix in random_ix(N, steps=9*therm_sweeps):\n",
    "        grid, dE, dM = torch_ising.metrop_step(grid, conv, beta)\n",
    "    \n",
    "    measure_sweeps = 800\n",
    "    E = [ising.ising_energy(grid[0][0], J, mu).cpu().numpy()]\n",
    "    M = [grid.sum().cpu().numpy()]\n",
    "    #grid = grid.cpu().numpy()[0,0]\n",
    "    for ix in random_ix(N, steps=9*measure_sweeps):\n",
    "        #dE = ising.metrop_step(grid, ix, J, mu, beta, N)\n",
    "        grid, dE, dM = torch_ising.metrop_step(grid, conv, beta)\n",
    "        dE = dE or 0\n",
    "        E.append( E[-1] + dE )\n",
    "        M.append( M[-1] + dM )\n",
    "        \n",
    "    eneg_tm.append(E)\n",
    "    mag_tm.append(M)"
   ]
  },
  {
   "cell_type": "code",
   "execution_count": 5,
   "metadata": {
    "ExecuteTime": {
     "end_time": "2020-05-01T20:49:14.540225Z",
     "start_time": "2020-05-01T20:49:14.504996Z"
    }
   },
   "outputs": [
    {
     "data": {
      "text/plain": [
       "100"
      ]
     },
     "execution_count": 5,
     "metadata": {},
     "output_type": "execute_result"
    }
   ],
   "source": [
    "N"
   ]
  },
  {
   "cell_type": "markdown",
   "metadata": {},
   "source": [
    "## Save data for later analysis and plotting"
   ]
  },
  {
   "cell_type": "code",
   "execution_count": 6,
   "metadata": {
    "ExecuteTime": {
     "end_time": "2020-05-01T20:49:16.378344Z",
     "start_time": "2020-05-01T20:49:16.120206Z"
    },
    "lines_to_next_cell": 2
   },
   "outputs": [],
   "source": [
    "energies = np.mean(eneg_tm, axis=1)\n",
    "heat = np.std(eneg_tm, axis=1)\n",
    "magnetizations = np.mean(mag_tm, axis=1)\n",
    "susc = np.std(mag_tm, axis=1)\n",
    "\n",
    "exp = {\n",
    "    'N':N\n",
    "    ,'J':J\n",
    "    ,'mu':mu\n",
    "    ,'therm_sweeps':therm_sweeps\n",
    "    ,'measure_sweeps':measure_sweeps\n",
    "    ,'temps': temps\n",
    "    ,'energies':energies\n",
    "    ,'magn':magnetizations\n",
    "    ,'heat':heat\n",
    "    ,'susc':susc\n",
    "}\n",
    "\n",
    "np.save(f'../data/exp_N{N}_sweep{therm_sweeps}', exp)"
   ]
  },
  {
   "cell_type": "code",
   "execution_count": 29,
   "metadata": {
    "ExecuteTime": {
     "end_time": "2020-05-01T20:58:51.853289Z",
     "start_time": "2020-05-01T20:58:51.673070Z"
    }
   },
   "outputs": [
    {
     "data": {
      "text/plain": [
       "[<matplotlib.lines.Line2D at 0x7ffaa863b820>]"
      ]
     },
     "execution_count": 29,
     "metadata": {},
     "output_type": "execute_result"
    },
    {
     "data": {
      "image/png": "[encoded data removed]",
      "text/plain": [
       "<Figure size 432x288 with 1 Axes>"
      ]
     },
     "metadata": {
      "needs_background": "light"
     },
     "output_type": "display_data"
    }
   ],
   "source": [
    "plt.plot(mag_tm[0])"
   ]
  },
  {
   "cell_type": "code",
   "execution_count": null,
   "metadata": {
    "ExecuteTime": {
     "end_time": "2020-04-30T22:42:43.916953Z",
     "start_time": "2020-04-30T22:42:39.968Z"
    }
   },
   "outputs": [],
   "source": [
    "# smoothing\n",
    "plt.plot(np.convolve(energies, np.ones((N**2,))/N**2, mode='valid'))"
   ]
  },
  {
   "cell_type": "code",
   "execution_count": null,
   "metadata": {
    "ExecuteTime": {
     "end_time": "2020-05-01T20:51:24.042465Z",
     "start_time": "2020-05-01T20:51:23.661746Z"
    }
   },
   "outputs": [],
   "source": []
  },
  {
   "cell_type": "code",
   "execution_count": 25,
   "metadata": {
    "ExecuteTime": {
     "end_time": "2020-05-01T20:56:41.526661Z",
     "start_time": "2020-05-01T20:56:41.340526Z"
    }
   },
   "outputs": [
    {
     "data": {
      "text/plain": [
       "<matplotlib.image.AxesImage at 0x7ffab0374700>"
      ]
     },
     "execution_count": 25,
     "metadata": {},
     "output_type": "execute_result"
    },
    {
     "data": {
      "image/png": "[encoded data removed]",
      "text/plain": [
       "<Figure size 432x288 with 1 Axes>"
      ]
     },
     "metadata": {
      "needs_background": "light"
     },
     "output_type": "display_data"
    }
   ],
   "source": [
    "#grid = get_random_grid(50)\n",
    "plt.imshow(grid[0,0])"
   ]
  },
  {
   "cell_type": "code",
   "execution_count": null,
   "metadata": {},
   "outputs": [],
   "source": []
  },
  {
   "cell_type": "markdown",
   "metadata": {},
   "source": [
    "## Use simple serial algorithm"
   ]
  },
  {
   "cell_type": "code",
   "execution_count": 54,
   "metadata": {
    "ExecuteTime": {
     "end_time": "2020-04-30T22:42:43.883056Z",
     "start_time": "2020-04-30T22:42:39.991855Z"
    },
    "lines_to_next_cell": 2
   },
   "outputs": [
    {
     "ename": "KeyboardInterrupt",
     "evalue": "",
     "output_type": "error",
     "traceback": [
      "\u001b[0;31m---------------------------------------------------------------------------\u001b[0m",
      "\u001b[0;31mKeyboardInterrupt\u001b[0m                         Traceback (most recent call last)",
      "\u001b[0;32m<ipython-input-54-4e578ee0bbb8>\u001b[0m in \u001b[0;36m<module>\u001b[0;34m\u001b[0m\n\u001b[1;32m     12\u001b[0m     \u001b[0mtherm_sweeps\u001b[0m \u001b[0;34m=\u001b[0m \u001b[0;36m200\u001b[0m\u001b[0;34m\u001b[0m\u001b[0;34m\u001b[0m\u001b[0m\n\u001b[1;32m     13\u001b[0m     \u001b[0;32mfor\u001b[0m \u001b[0mix\u001b[0m \u001b[0;32min\u001b[0m \u001b[0mrandom_ix\u001b[0m\u001b[0;34m(\u001b[0m\u001b[0mN\u001b[0m\u001b[0;34m,\u001b[0m \u001b[0msteps\u001b[0m\u001b[0;34m=\u001b[0m\u001b[0mN\u001b[0m\u001b[0;34m**\u001b[0m\u001b[0;36m2\u001b[0m\u001b[0;34m*\u001b[0m\u001b[0mtherm_sweeps\u001b[0m\u001b[0;34m)\u001b[0m\u001b[0;34m:\u001b[0m\u001b[0;34m\u001b[0m\u001b[0;34m\u001b[0m\u001b[0m\n\u001b[0;32m---> 14\u001b[0;31m         \u001b[0mdE\u001b[0m \u001b[0;34m=\u001b[0m \u001b[0mising\u001b[0m\u001b[0;34m.\u001b[0m\u001b[0mmetrop_step\u001b[0m\u001b[0;34m(\u001b[0m\u001b[0mgrid\u001b[0m\u001b[0;34m,\u001b[0m \u001b[0mix\u001b[0m\u001b[0;34m,\u001b[0m \u001b[0mJ\u001b[0m\u001b[0;34m,\u001b[0m \u001b[0mmu\u001b[0m\u001b[0;34m,\u001b[0m \u001b[0mbeta\u001b[0m\u001b[0;34m,\u001b[0m \u001b[0mN\u001b[0m\u001b[0;34m)\u001b[0m\u001b[0;34m\u001b[0m\u001b[0;34m\u001b[0m\u001b[0m\n\u001b[0m\u001b[1;32m     15\u001b[0m \u001b[0;34m\u001b[0m\u001b[0m\n\u001b[1;32m     16\u001b[0m     \u001b[0mE\u001b[0m \u001b[0;34m=\u001b[0m \u001b[0;34m[\u001b[0m\u001b[0mising\u001b[0m\u001b[0;34m.\u001b[0m\u001b[0mising_energy\u001b[0m\u001b[0;34m(\u001b[0m\u001b[0mgrid\u001b[0m\u001b[0;34m,\u001b[0m \u001b[0mJ\u001b[0m\u001b[0;34m,\u001b[0m \u001b[0mmu\u001b[0m\u001b[0;34m)\u001b[0m\u001b[0;34m]\u001b[0m\u001b[0;34m\u001b[0m\u001b[0;34m\u001b[0m\u001b[0m\n",
      "\u001b[0;32m~/niu/comp_course/ising_model/syntesis/scripts/ising.py\u001b[0m in \u001b[0;36mmetrop_step\u001b[0;34m(grid, idx, J, mu, beta, N)\u001b[0m\n\u001b[1;32m     31\u001b[0m         \u001b[0mx\u001b[0m \u001b[0;34m=\u001b[0m \u001b[0mgrid\u001b[0m\u001b[0;34m[\u001b[0m\u001b[0mi\u001b[0m\u001b[0;34m,\u001b[0m\u001b[0mj\u001b[0m\u001b[0;34m]\u001b[0m\u001b[0;34m\u001b[0m\u001b[0;34m\u001b[0m\u001b[0m\n\u001b[1;32m     32\u001b[0m         \u001b[0madj_\u001b[0m \u001b[0;34m=\u001b[0m \u001b[0madjacent_indices_torus\u001b[0m\u001b[0;34m(\u001b[0m\u001b[0;34m(\u001b[0m\u001b[0mi\u001b[0m\u001b[0;34m,\u001b[0m\u001b[0mj\u001b[0m\u001b[0;34m)\u001b[0m\u001b[0;34m,\u001b[0m \u001b[0mN\u001b[0m\u001b[0;34m)\u001b[0m\u001b[0;34m\u001b[0m\u001b[0;34m\u001b[0m\u001b[0m\n\u001b[0;32m---> 33\u001b[0;31m         \u001b[0mdE\u001b[0m \u001b[0;34m=\u001b[0m \u001b[0mJ\u001b[0m\u001b[0;34m*\u001b[0m\u001b[0mx\u001b[0m\u001b[0;34m*\u001b[0m\u001b[0msum\u001b[0m\u001b[0;34m(\u001b[0m\u001b[0mgrid\u001b[0m\u001b[0;34m[\u001b[0m\u001b[0mix\u001b[0m\u001b[0;34m]\u001b[0m \u001b[0;32mfor\u001b[0m \u001b[0mix\u001b[0m \u001b[0;32min\u001b[0m \u001b[0madj_\u001b[0m\u001b[0;34m)\u001b[0m \u001b[0;34m+\u001b[0m \u001b[0mmu\u001b[0m\u001b[0;34m*\u001b[0m\u001b[0mx\u001b[0m\u001b[0;34m\u001b[0m\u001b[0;34m\u001b[0m\u001b[0m\n\u001b[0m\u001b[1;32m     34\u001b[0m         \u001b[0mdE\u001b[0m \u001b[0;34m*=\u001b[0m \u001b[0;36m2\u001b[0m\u001b[0;34m\u001b[0m\u001b[0;34m\u001b[0m\u001b[0m\n\u001b[1;32m     35\u001b[0m \u001b[0;34m\u001b[0m\u001b[0m\n",
      "\u001b[0;31mKeyboardInterrupt\u001b[0m: "
     ]
    }
   ],
   "source": [
    "J = 0.5\n",
    "mu = 0\n",
    "\n",
    "temps = np.linspace(0.05, 3, 100)\n",
    "eneg_tm = []\n",
    "mag_tm = []\n",
    "for T in temps:\n",
    "    beta = 1/T\n",
    "    grid = ising.get_random_grid(N)\n",
    "    \n",
    "    # Thermalise    \n",
    "    therm_sweeps = 200\n",
    "    for ix in random_ix(N, steps=N**2*therm_sweeps):\n",
    "        dE = ising.metrop_step(grid, ix, J, mu, beta, N)\n",
    "    \n",
    "    E = [ising.ising_energy(grid, J, mu)]\n",
    "    M = [np.mean(grid)]\n",
    "    print('measure t=',T)\n",
    "    for ix in random_ix(N, steps=N**2*100):\n",
    "        raise\n",
    "        dE = ising.metrop_step(grid, ix, J, mu, beta, N)\n",
    "        dE = dE or 0\n",
    "        E.append( E[-1] + dE )\n",
    "        M.append(np.mean(grid))\n",
    "        \n",
    "    print('done measure')\n",
    "    eneg_tm.append(E)\n",
    "    mag_tm.append(M)"
   ]
  },
  {
   "cell_type": "code",
   "execution_count": null,
   "metadata": {
    "ExecuteTime": {
     "end_time": "2020-04-30T22:42:43.902713Z",
     "start_time": "2020-04-30T22:42:39.943Z"
    },
    "collapsed": true
   },
   "outputs": [],
   "source": [
    "fig, axs = plt.subplots(2,2, figsize=(8,6))\n",
    "\n",
    "[ax.set_title(t) for ax, t in zip(sum(map(list, axs),[]),\n",
    "                              ['Energy','Specific Heat', 'Magnetization', 'Susceptibility'])]\n",
    "\n",
    "axs[0,0].plot(temps, list(map(np.mean, eneg_tm)))\n",
    "axs[0,1].plot(temps, list(map(np.std, eneg_tm)))\n",
    "axs[1,0].plot(temps, list(map(np.mean, mag_tm)))\n",
    "axs[1,1].plot(temps, list(map(np.std, mag_tm)))\n"
   ]
  }
 ],
 "metadata": {
  "jupytext": {
   "formats": "ipynb,scripts//py"
  },
  "kernelspec": {
   "display_name": "Python 3",
   "language": "python",
   "name": "python3"
  },
  "language_info": {
   "codemirror_mode": {
    "name": "ipython",
    "version": 3
   },
   "file_extension": ".py",
   "mimetype": "text/x-python",
   "name": "python",
   "nbconvert_exporter": "python",
   "pygments_lexer": "ipython3",
   "version": "3.8.2"
  },
  "toc": {
   "base_numbering": 1,
   "nav_menu": {},
   "number_sections": true,
   "sideBar": true,
   "skip_h1_title": false,
   "title_cell": "Table of Contents",
   "title_sidebar": "Contents",
   "toc_cell": true,
   "toc_position": {},
   "toc_section_display": true,
   "toc_window_display": false
  }
 },
 "nbformat": 4,
 "nbformat_minor": 4
}
