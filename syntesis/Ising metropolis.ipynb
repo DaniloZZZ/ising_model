{
 "cells": [
  {
   "cell_type": "markdown",
   "metadata": {
    "toc": true
   },
   "source": [
    "<h1>Table of Contents<span class=\"tocSkip\"></span></h1>\n",
    "<div class=\"toc\"><ul class=\"toc-item\"><li><span><a href=\"#Simple-first-run\" data-toc-modified-id=\"Simple-first-run-1\"><span class=\"toc-item-num\">1&nbsp;&nbsp;</span>Simple first run</a></span></li><li><span><a href=\"#Use-simple-serial-algorithm\" data-toc-modified-id=\"Use-simple-serial-algorithm-2\"><span class=\"toc-item-num\">2&nbsp;&nbsp;</span>Use simple serial algorithm</a></span></li><li><span><a href=\"#Use-pytorch-convolution\" data-toc-modified-id=\"Use-pytorch-convolution-3\"><span class=\"toc-item-num\">3&nbsp;&nbsp;</span>Use pytorch convolution</a></span></li></ul></div>"
   ]
  },
  {
   "cell_type": "code",
   "execution_count": 120,
   "metadata": {
    "ExecuteTime": {
     "end_time": "2020-05-01T00:37:47.140457Z",
     "start_time": "2020-05-01T00:37:47.084579Z"
    }
   },
   "outputs": [
    {
     "name": "stdout",
     "output_type": "stream",
     "text": [
      "The autoreload extension is already loaded. To reload it, use:\n",
      "  %reload_ext autoreload\n"
     ]
    },
    {
     "data": {
      "text/plain": [
       "{'divide': 'warn', 'over': 'raise', 'under': 'ignore', 'invalid': 'warn'}"
      ]
     },
     "execution_count": 120,
     "metadata": {},
     "output_type": "execute_result"
    }
   ],
   "source": [
    "import numpy as np\n",
    "from tqdm import tqdm\n",
    "import matplotlib.pyplot as plt\n",
    "from scripts import ising\n",
    "from scripts import torch_ising\n",
    "\n",
    "%load_ext autoreload\n",
    "%autoreload 2\n",
    "\n",
    "# Insight from using full energy\n",
    "np.seterr(over='raise')"
   ]
  },
  {
   "cell_type": "markdown",
   "metadata": {},
   "source": [
    "## Simple first run\n",
    "\n",
    "1. Iniatilize NxN grid\n",
    "2. Compute the initial energy $E$\n",
    "3. Flip random spin and compute $\\Delta E$\n",
    "4. Accept or reject based on criteria\n",
    "5. Continue to 3"
   ]
  },
  {
   "cell_type": "code",
   "execution_count": 52,
   "metadata": {
    "ExecuteTime": {
     "end_time": "2020-04-30T22:42:39.977331Z",
     "start_time": "2020-04-30T22:42:39.954766Z"
    }
   },
   "outputs": [],
   "source": [
    "#@profile\n",
    "def random_ix(N, steps):\n",
    "    randix = (np.random.randint(0, N, size=(steps,2)))\n",
    "    return randix"
   ]
  },
  {
   "cell_type": "code",
   "execution_count": 53,
   "metadata": {
    "ExecuteTime": {
     "end_time": "2020-04-30T22:42:39.990233Z",
     "start_time": "2020-04-30T22:42:39.980627Z"
    }
   },
   "outputs": [],
   "source": [
    "N = 50\n",
    "grid = ising.get_random_grid(N)\n",
    "#plt.imshow(grid)\n",
    "# Rescale to +-1"
   ]
  },
  {
   "cell_type": "markdown",
   "metadata": {},
   "source": [
    "## Use simple serial algorithm"
   ]
  },
  {
   "cell_type": "code",
   "execution_count": 54,
   "metadata": {
    "ExecuteTime": {
     "end_time": "2020-04-30T22:42:43.883056Z",
     "start_time": "2020-04-30T22:42:39.991855Z"
    },
    "lines_to_next_cell": 2
   },
   "outputs": [
    {
     "ename": "KeyboardInterrupt",
     "evalue": "",
     "output_type": "error",
     "traceback": [
      "\u001b[0;31m---------------------------------------------------------------------------\u001b[0m",
      "\u001b[0;31mKeyboardInterrupt\u001b[0m                         Traceback (most recent call last)",
      "\u001b[0;32m<ipython-input-54-4e578ee0bbb8>\u001b[0m in \u001b[0;36m<module>\u001b[0;34m\u001b[0m\n\u001b[1;32m     12\u001b[0m     \u001b[0mtherm_sweeps\u001b[0m \u001b[0;34m=\u001b[0m \u001b[0;36m200\u001b[0m\u001b[0;34m\u001b[0m\u001b[0;34m\u001b[0m\u001b[0m\n\u001b[1;32m     13\u001b[0m     \u001b[0;32mfor\u001b[0m \u001b[0mix\u001b[0m \u001b[0;32min\u001b[0m \u001b[0mrandom_ix\u001b[0m\u001b[0;34m(\u001b[0m\u001b[0mN\u001b[0m\u001b[0;34m,\u001b[0m \u001b[0msteps\u001b[0m\u001b[0;34m=\u001b[0m\u001b[0mN\u001b[0m\u001b[0;34m**\u001b[0m\u001b[0;36m2\u001b[0m\u001b[0;34m*\u001b[0m\u001b[0mtherm_sweeps\u001b[0m\u001b[0;34m)\u001b[0m\u001b[0;34m:\u001b[0m\u001b[0;34m\u001b[0m\u001b[0;34m\u001b[0m\u001b[0m\n\u001b[0;32m---> 14\u001b[0;31m         \u001b[0mdE\u001b[0m \u001b[0;34m=\u001b[0m \u001b[0mising\u001b[0m\u001b[0;34m.\u001b[0m\u001b[0mmetrop_step\u001b[0m\u001b[0;34m(\u001b[0m\u001b[0mgrid\u001b[0m\u001b[0;34m,\u001b[0m \u001b[0mix\u001b[0m\u001b[0;34m,\u001b[0m \u001b[0mJ\u001b[0m\u001b[0;34m,\u001b[0m \u001b[0mmu\u001b[0m\u001b[0;34m,\u001b[0m \u001b[0mbeta\u001b[0m\u001b[0;34m,\u001b[0m \u001b[0mN\u001b[0m\u001b[0;34m)\u001b[0m\u001b[0;34m\u001b[0m\u001b[0;34m\u001b[0m\u001b[0m\n\u001b[0m\u001b[1;32m     15\u001b[0m \u001b[0;34m\u001b[0m\u001b[0m\n\u001b[1;32m     16\u001b[0m     \u001b[0mE\u001b[0m \u001b[0;34m=\u001b[0m \u001b[0;34m[\u001b[0m\u001b[0mising\u001b[0m\u001b[0;34m.\u001b[0m\u001b[0mising_energy\u001b[0m\u001b[0;34m(\u001b[0m\u001b[0mgrid\u001b[0m\u001b[0;34m,\u001b[0m \u001b[0mJ\u001b[0m\u001b[0;34m,\u001b[0m \u001b[0mmu\u001b[0m\u001b[0;34m)\u001b[0m\u001b[0;34m]\u001b[0m\u001b[0;34m\u001b[0m\u001b[0;34m\u001b[0m\u001b[0m\n",
      "\u001b[0;32m~/niu/comp_course/ising_model/syntesis/scripts/ising.py\u001b[0m in \u001b[0;36mmetrop_step\u001b[0;34m(grid, idx, J, mu, beta, N)\u001b[0m\n\u001b[1;32m     31\u001b[0m         \u001b[0mx\u001b[0m \u001b[0;34m=\u001b[0m \u001b[0mgrid\u001b[0m\u001b[0;34m[\u001b[0m\u001b[0mi\u001b[0m\u001b[0;34m,\u001b[0m\u001b[0mj\u001b[0m\u001b[0;34m]\u001b[0m\u001b[0;34m\u001b[0m\u001b[0;34m\u001b[0m\u001b[0m\n\u001b[1;32m     32\u001b[0m         \u001b[0madj_\u001b[0m \u001b[0;34m=\u001b[0m \u001b[0madjacent_indices_torus\u001b[0m\u001b[0;34m(\u001b[0m\u001b[0;34m(\u001b[0m\u001b[0mi\u001b[0m\u001b[0;34m,\u001b[0m\u001b[0mj\u001b[0m\u001b[0;34m)\u001b[0m\u001b[0;34m,\u001b[0m \u001b[0mN\u001b[0m\u001b[0;34m)\u001b[0m\u001b[0;34m\u001b[0m\u001b[0;34m\u001b[0m\u001b[0m\n\u001b[0;32m---> 33\u001b[0;31m         \u001b[0mdE\u001b[0m \u001b[0;34m=\u001b[0m \u001b[0mJ\u001b[0m\u001b[0;34m*\u001b[0m\u001b[0mx\u001b[0m\u001b[0;34m*\u001b[0m\u001b[0msum\u001b[0m\u001b[0;34m(\u001b[0m\u001b[0mgrid\u001b[0m\u001b[0;34m[\u001b[0m\u001b[0mix\u001b[0m\u001b[0;34m]\u001b[0m \u001b[0;32mfor\u001b[0m \u001b[0mix\u001b[0m \u001b[0;32min\u001b[0m \u001b[0madj_\u001b[0m\u001b[0;34m)\u001b[0m \u001b[0;34m+\u001b[0m \u001b[0mmu\u001b[0m\u001b[0;34m*\u001b[0m\u001b[0mx\u001b[0m\u001b[0;34m\u001b[0m\u001b[0;34m\u001b[0m\u001b[0m\n\u001b[0m\u001b[1;32m     34\u001b[0m         \u001b[0mdE\u001b[0m \u001b[0;34m*=\u001b[0m \u001b[0;36m2\u001b[0m\u001b[0;34m\u001b[0m\u001b[0;34m\u001b[0m\u001b[0m\n\u001b[1;32m     35\u001b[0m \u001b[0;34m\u001b[0m\u001b[0m\n",
      "\u001b[0;31mKeyboardInterrupt\u001b[0m: "
     ]
    }
   ],
   "source": [
    "J = 0.5\n",
    "mu = 0\n",
    "\n",
    "temps = np.linspace(0.05, 3, 100)\n",
    "eneg_tm = []\n",
    "mag_tm = []\n",
    "for T in temps:\n",
    "    beta = 1/T\n",
    "    grid = ising.get_random_grid(N)\n",
    "    \n",
    "    # Thermalise    \n",
    "    therm_sweeps = 200\n",
    "    for ix in random_ix(N, steps=N**2*therm_sweeps):\n",
    "        dE = ising.metrop_step(grid, ix, J, mu, beta, N)\n",
    "    \n",
    "    E = [ising.ising_energy(grid, J, mu)]\n",
    "    M = [np.mean(grid)]\n",
    "    print('measure t=',T)\n",
    "    for ix in random_ix(N, steps=N**2*100):\n",
    "        raise\n",
    "        dE = ising.metrop_step(grid, ix, J, mu, beta, N)\n",
    "        dE = dE or 0\n",
    "        E.append( E[-1] + dE )\n",
    "        M.append(np.mean(grid))\n",
    "        \n",
    "    print('done measure')\n",
    "    eneg_tm.append(E)\n",
    "    mag_tm.append(M)"
   ]
  },
  {
   "cell_type": "code",
   "execution_count": null,
   "metadata": {
    "ExecuteTime": {
     "end_time": "2020-04-30T22:42:43.902713Z",
     "start_time": "2020-04-30T22:42:39.943Z"
    }
   },
   "outputs": [],
   "source": [
    "fig, axs = plt.subplots(2,2, figsize=(8,6))\n",
    "\n",
    "[ax.set_title(t) for ax, t in zip(sum(map(list, axs),[]),\n",
    "                              ['Energy','Specific Heat', 'Magnetization', 'Susceptibility'])]\n",
    "\n",
    "axs[0,0].plot(temps, list(map(np.mean, eneg_tm)))\n",
    "axs[0,1].plot(temps, list(map(np.std, eneg_tm)))\n",
    "axs[1,0].plot(temps, list(map(np.mean, mag_tm)))\n",
    "axs[1,1].plot(temps, list(map(np.std, mag_tm)))\n"
   ]
  },
  {
   "cell_type": "markdown",
   "metadata": {},
   "source": [
    "## Use pytorch convolution"
   ]
  },
  {
   "cell_type": "code",
   "execution_count": 190,
   "metadata": {
    "ExecuteTime": {
     "end_time": "2020-05-01T01:17:01.785532Z",
     "start_time": "2020-05-01T01:14:04.097884Z"
    },
    "lines_to_next_cell": 2
   },
   "outputs": [
    {
     "name": "stderr",
     "output_type": "stream",
     "text": [
      "100%|██████████| 30/30 [02:57<00:00,  5.92s/it]\n"
     ]
    }
   ],
   "source": [
    "J = 0.5\n",
    "mu = 0\n",
    "\n",
    "temps = np.linspace(0.05, 2, 30)\n",
    "eneg_tm = []\n",
    "mag_tm = []\n",
    "grid = torch_ising.get_random_grid(N, device='cpu')\n",
    "for T in tqdm(temps):\n",
    "    beta = 1/T\n",
    "    \n",
    "    # Thermalise    \n",
    "    therm_sweeps = 600\n",
    "    conv = torch_ising.get_conv_nn(J, mu, device='cpu')\n",
    "    for ix in random_ix(N, steps=9*therm_sweeps):\n",
    "        grid, dE, dM = torch_ising.metrop_step(grid, conv, beta)\n",
    "    \n",
    "    measure_sweeps = 600\n",
    "    E = [ising.ising_energy(grid[0][0], J, mu).cpu().numpy()]\n",
    "    M = [grid.sum().cpu().numpy()]\n",
    "    #grid = grid.cpu().numpy()[0,0]\n",
    "    for ix in random_ix(N, steps=9*measure_sweeps):\n",
    "        #dE = ising.metrop_step(grid, ix, J, mu, beta, N)\n",
    "        grid, dE, dM = torch_ising.metrop_step(grid, conv, beta)\n",
    "        dE = dE or 0\n",
    "        E.append( E[-1] + dE )\n",
    "        M.append( M[-1] + dM )\n",
    "        \n",
    "    eneg_tm.append(E)\n",
    "    mag_tm.append(M)"
   ]
  },
  {
   "cell_type": "code",
   "execution_count": null,
   "metadata": {
    "ExecuteTime": {
     "end_time": "2020-04-30T20:56:45.122671Z",
     "start_time": "2020-04-30T20:56:45.067160Z"
    }
   },
   "outputs": [],
   "source": []
  },
  {
   "cell_type": "code",
   "execution_count": null,
   "metadata": {},
   "outputs": [],
   "source": []
  },
  {
   "cell_type": "code",
   "execution_count": 192,
   "metadata": {
    "ExecuteTime": {
     "end_time": "2020-05-01T01:30:12.970040Z",
     "start_time": "2020-05-01T01:30:12.830367Z"
    },
    "lines_to_next_cell": 2
   },
   "outputs": [],
   "source": [
    "energies = np.mean(eneg_tm, axis=1)\n",
    "susc = np.std(eneg_tm, axis=1)\n",
    "magnetizations = np.mean(mag_tm, axis=1)\n",
    "permit = np.std(mag_tm, axis=1)\n"
   ]
  },
  {
   "cell_type": "code",
   "execution_count": 210,
   "metadata": {
    "ExecuteTime": {
     "end_time": "2020-05-01T01:43:02.379148Z",
     "start_time": "2020-05-01T01:43:00.621079Z"
    }
   },
   "outputs": [
    {
     "data": {
      "image/png": "[encoded data removed]",
      "text/plain": [
       "<Figure size 720x288 with 4 Axes>"
      ]
     },
     "metadata": {
      "needs_background": "light"
     },
     "output_type": "display_data"
    }
   ],
   "source": [
    "fig, axs = plt.subplots(1,2, figsize=(10,4))\n",
    "\n",
    "fig.suptitle(\n",
    "    ('Ising with conv2d.\\n'\n",
    "     f'{N=}, {therm_sweeps=}, {measure_sweeps=}\\n '\n",
    "    )\n",
    "    #, y=1.00\n",
    "    , fontsize=13\n",
    ")\n",
    "\n",
    "plt.sca(axs[0])\n",
    "plt.errorbar(temps, energies/N**2\n",
    "             , yerr=susc/N**2\n",
    "             , capsize=2\n",
    "            )\n",
    "plt.gca().twinx()\n",
    "plt.plot(temps, susc/temps, 'red', label='Specific heat')\n",
    "plt.legend(loc='upper left')\n",
    "\n",
    "plt.sca(axs[1])\n",
    "#plt.plot(temps, magnetizations/N**2)\n",
    "plt.errorbar(temps, magnetizations/N**2\n",
    "             , yerr=permit/N**2\n",
    "             , capsize=2\n",
    "            )\n",
    "plt.gca().twinx()\n",
    "plt.plot(temps, permit/temps/N**2, 'red', label='M. Susceptibility')\n",
    "\n",
    "plt.legend(loc='center left')\n",
    "\n",
    "[ax.grid() for ax in axs]\n",
    "[ax.set_title(x) for ax,x in zip(axs, ['Energy', 'Magnetization'])]\n",
    "[ax.set_xlabel('kT') for ax in axs]\n",
    "plt.subplots_adjust(top=0.80)\n",
    "\n",
    "\n",
    "plt.savefig('../data/figures/Ising_conv2d_600sweeps.png')"
   ]
  },
  {
   "cell_type": "code",
   "execution_count": 114,
   "metadata": {
    "ExecuteTime": {
     "end_time": "2020-05-01T00:29:41.242492Z",
     "start_time": "2020-05-01T00:29:41.010693Z"
    }
   },
   "outputs": [
    {
     "data": {
      "text/plain": [
       "[<matplotlib.lines.Line2D at 0x7fc9de541250>]"
      ]
     },
     "execution_count": 114,
     "metadata": {},
     "output_type": "execute_result"
    },
    {
     "data": {
      "image/png": "[encoded data removed]",
      "text/plain": [
       "<Figure size 432x288 with 1 Axes>"
      ]
     },
     "metadata": {
      "needs_background": "light"
     },
     "output_type": "display_data"
    }
   ],
   "source": [
    "plt.plot(mag_tm[20])"
   ]
  },
  {
   "cell_type": "code",
   "execution_count": null,
   "metadata": {
    "ExecuteTime": {
     "end_time": "2020-04-30T22:42:43.916953Z",
     "start_time": "2020-04-30T22:42:39.968Z"
    }
   },
   "outputs": [],
   "source": [
    "# smoothing\n",
    "\n",
    "plt.plot(np.convolve(energies, np.ones((N**2,))/N**2, mode='valid'))\n"
   ]
  },
  {
   "cell_type": "code",
   "execution_count": null,
   "metadata": {
    "ExecuteTime": {
     "end_time": "2020-04-30T22:42:43.918360Z",
     "start_time": "2020-04-30T22:42:39.971Z"
    }
   },
   "outputs": [],
   "source": [
    "fig, axs = plt.subplots(2,1, figsize=(5,5))\n",
    "plt.plot(averages, label='average occupation') \n",
    "plt.legend()\n",
    "plt.sca(axs[0])\n",
    "plt.plot(energies, label='Energy', color='orange') \n",
    "plt.legend()"
   ]
  },
  {
   "cell_type": "code",
   "execution_count": 104,
   "metadata": {
    "ExecuteTime": {
     "end_time": "2020-05-01T00:27:23.555946Z",
     "start_time": "2020-05-01T00:27:23.352617Z"
    }
   },
   "outputs": [
    {
     "data": {
      "text/plain": [
       "<matplotlib.image.AxesImage at 0x7fc9df3ced00>"
      ]
     },
     "execution_count": 104,
     "metadata": {},
     "output_type": "execute_result"
    },
    {
     "data": {
      "image/png": "[encoded data removed]",
      "text/plain": [
       "<Figure size 432x288 with 1 Axes>"
      ]
     },
     "metadata": {
      "needs_background": "light"
     },
     "output_type": "display_data"
    }
   ],
   "source": [
    "#grid = get_random_grid(50)\n",
    "plt.imshow(grid[0,0])"
   ]
  }
 ],
 "metadata": {
  "jupytext": {
   "formats": "ipynb,scripts//py"
  },
  "kernelspec": {
   "display_name": "Python 3",
   "language": "python",
   "name": "python3"
  },
  "language_info": {
   "codemirror_mode": {
    "name": "ipython",
    "version": 3
   },
   "file_extension": ".py",
   "mimetype": "text/x-python",
   "name": "python",
   "nbconvert_exporter": "python",
   "pygments_lexer": "ipython3",
   "version": "3.8.2"
  },
  "toc": {
   "base_numbering": 1,
   "nav_menu": {},
   "number_sections": true,
   "sideBar": true,
   "skip_h1_title": false,
   "title_cell": "Table of Contents",
   "title_sidebar": "Contents",
   "toc_cell": true,
   "toc_position": {},
   "toc_section_display": true,
   "toc_window_display": true
  }
 },
 "nbformat": 4,
 "nbformat_minor": 4
}
