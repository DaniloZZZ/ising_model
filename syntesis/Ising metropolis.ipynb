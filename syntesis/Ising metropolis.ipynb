{
 "cells": [
  {
   "cell_type": "markdown",
   "metadata": {
    "toc": true
   },
   "source": [
    "<h1>Table of Contents<span class=\"tocSkip\"></span></h1>\n",
    "<div class=\"toc\"><ul class=\"toc-item\"><li><span><a href=\"#Simple-first-run\" data-toc-modified-id=\"Simple-first-run-1\"><span class=\"toc-item-num\">1&nbsp;&nbsp;</span>Simple first run</a></span></li><li><span><a href=\"#Use-pytorch-convolution\" data-toc-modified-id=\"Use-pytorch-convolution-2\"><span class=\"toc-item-num\">2&nbsp;&nbsp;</span>Use pytorch convolution</a></span></li><li><span><a href=\"#Save-data-for-later-analysis-and-plotting\" data-toc-modified-id=\"Save-data-for-later-analysis-and-plotting-3\"><span class=\"toc-item-num\">3&nbsp;&nbsp;</span>Save data for later analysis and plotting</a></span></li><li><span><a href=\"#Use-simple-serial-algorithm\" data-toc-modified-id=\"Use-simple-serial-algorithm-4\"><span class=\"toc-item-num\">4&nbsp;&nbsp;</span>Use simple serial algorithm</a></span></li></ul></div>"
   ]
  },
  {
   "cell_type": "code",
   "execution_count": 1,
   "metadata": {
    "ExecuteTime": {
     "end_time": "2020-05-05T07:42:52.996678Z",
     "start_time": "2020-05-05T07:42:50.896076Z"
    }
   },
   "outputs": [
    {
     "data": {
      "text/plain": [
       "{'divide': 'warn', 'over': 'warn', 'under': 'ignore', 'invalid': 'warn'}"
      ]
     },
     "execution_count": 1,
     "metadata": {},
     "output_type": "execute_result"
    }
   ],
   "source": [
    "import numpy as np\n",
    "from tqdm import tqdm\n",
    "import matplotlib.pyplot as plt\n",
    "from scripts import ising\n",
    "from scripts import torch_ising\n",
    "from multiprocessing import Pool\n",
    "\n",
    "%load_ext autoreload\n",
    "%autoreload 2\n",
    "\n",
    "# Insight from using full energy\n",
    "np.seterr(over='raise')"
   ]
  },
  {
   "cell_type": "markdown",
   "metadata": {},
   "source": [
    "## Simple first run\n",
    "\n",
    "1. Iniatilize NxN grid\n",
    "2. Compute the initial energy $E$\n",
    "3. Flip random spin and compute $\\Delta E$\n",
    "4. Accept or reject based on criteria\n",
    "5. Continue to 3"
   ]
  },
  {
   "cell_type": "code",
   "execution_count": 2,
   "metadata": {
    "ExecuteTime": {
     "end_time": "2020-05-05T07:42:53.018624Z",
     "start_time": "2020-05-05T07:42:53.001263Z"
    }
   },
   "outputs": [],
   "source": [
    "#@profile\n",
    "def random_ix(N, steps):\n",
    "    randix = (np.random.randint(0, N, size=(steps,2)))\n",
    "    return randix"
   ]
  },
  {
   "cell_type": "code",
   "execution_count": null,
   "metadata": {
    "ExecuteTime": {
     "end_time": "2020-05-05T04:34:59.988274Z",
     "start_time": "2020-05-05T04:34:54.697807Z"
    }
   },
   "outputs": [],
   "source": []
  },
  {
   "cell_type": "code",
   "execution_count": 39,
   "metadata": {
    "ExecuteTime": {
     "end_time": "2020-05-05T09:25:34.201460Z",
     "start_time": "2020-05-05T09:25:34.174857Z"
    }
   },
   "outputs": [],
   "source": [
    "N = 60\n",
    "grid = ising.get_random_grid(N)"
   ]
  },
  {
   "cell_type": "markdown",
   "metadata": {},
   "source": [
    "## Use pytorch convolution"
   ]
  },
  {
   "cell_type": "code",
   "execution_count": 33,
   "metadata": {
    "ExecuteTime": {
     "end_time": "2020-05-05T08:54:33.174022Z",
     "start_time": "2020-05-05T08:54:33.149611Z"
    },
    "lines_to_end_of_cell_marker": 0,
    "lines_to_next_cell": 1
   },
   "outputs": [],
   "source": [
    "def simulate_torch(T,grid, J,mu,N, therm_sweeps=1500, measure_sweeps=800):\n",
    "    beta = 1/T\n",
    "\n",
    "    # Thermalise    \n",
    "    mask = torch_ising.get_anisotropic_mask(J, mu, 0.98)\n",
    "    #mask = torch_ising.get_diagonal_mask(J, mu)\n",
    "    conv = torch_ising.get_conv_torch(mask)\n",
    "    \n",
    "    for ix in range(9*therm_sweeps):\n",
    "        grid, dE, dM = torch_ising.metrop_step(grid, conv, beta)\n",
    "    \n",
    "    E = [ising.ising_energy(grid[0][0], J, mu).cpu().numpy()]\n",
    "    M = [grid.sum().cpu().numpy()]\n",
    "    #grid = grid.cpu().numpy()[0,0]\n",
    "    for ix in range(9*measure_sweeps):\n",
    "        #dE = ising.metrop_step(grid, ix, J, mu, beta, N)\n",
    "        grid, dE, dM = torch_ising.metrop_step(grid, conv, beta)\n",
    "        dE = dE or 0\n",
    "        E.append( E[-1] + dE )\n",
    "        M.append( M[-1] + dM )\n",
    "    return E, M, grid\n",
    "\n",
    "def simulate_torch_seq(temps, grid, J, mu, N, therm_sweeps=1500, measure_sweeps=800):\n",
    "    em = []\n",
    "    grids = []\n",
    "    for T in tqdm(temps):\n",
    "        a= (T, grid, J,mu,N, therm_sweeps, measure_sweeps)\n",
    "        E, M, grid = simulate_torch(*a)\n",
    "        grids.append(grid)\n",
    "        em.append((E,M))\n",
    "    return em, grids"
   ]
  },
  {
   "cell_type": "code",
   "execution_count": 40,
   "metadata": {
    "ExecuteTime": {
     "end_time": "2020-05-05T09:41:18.252372Z",
     "start_time": "2020-05-05T09:25:50.351987Z"
    },
    "scrolled": true
   },
   "outputs": [
    {
     "name": "stderr",
     "output_type": "stream",
     "text": [
      "100%|██████████| 55/55 [15:27<00:00, 16.87s/it]\n"
     ]
    }
   ],
   "source": [
    "J = 0.5\n",
    "mu = 0.\n",
    "\n",
    "temps = np.linspace(0.05, 3, 15)\n",
    "temps = np.concatenate((temps, np.linspace(0.45, 1.3, 30)))\n",
    "temps = np.concatenate((temps, np.linspace(0.5, 0.8 , 10)))\n",
    "temps = np.sort(temps)\n",
    "\n",
    "grid = torch_ising.get_random_grid(N, device='cpu')\n",
    "pool = Pool(processes=2)\n",
    "therm_sweeps = 2500\n",
    "measure_sweeps = 1200\n",
    "\n",
    "args = [(T, grid, J,mu,N,therm_sweeps, measure_sweeps) for T in temps]\n",
    "# To run in parallel, use s-tarmap\n",
    "#ems = pool.starmap(simulate_torch, args)\n",
    "ems, grids = simulate_torch_seq(temps, grid, J, mu, N, therm_sweeps, measure_sweeps)\n",
    "eneg_tm, mag_tm = zip(*ems)"
   ]
  },
  {
   "cell_type": "code",
   "execution_count": 72,
   "metadata": {
    "ExecuteTime": {
     "end_time": "2020-05-05T02:28:32.149291Z",
     "start_time": "2020-05-05T02:28:32.113231Z"
    }
   },
   "outputs": [],
   "source": [
    "# Clear tqdm\n",
    "for instance in list(tqdm._instances):\n",
    "    tqdm._decr_instances(instance)"
   ]
  },
  {
   "cell_type": "markdown",
   "metadata": {},
   "source": [
    "## Save data for later analysis and plotting"
   ]
  },
  {
   "cell_type": "code",
   "execution_count": 41,
   "metadata": {
    "ExecuteTime": {
     "end_time": "2020-05-05T16:00:18.134337Z",
     "start_time": "2020-05-05T16:00:17.843259Z"
    },
    "lines_to_next_cell": 2
   },
   "outputs": [
    {
     "name": "stdout",
     "output_type": "stream",
     "text": [
      "../data/exp_N60_sweep2500_mu0.0_temp2_anisotr.98\n"
     ]
    }
   ],
   "source": [
    "energies = np.mean(eneg_tm, axis=1)\n",
    "heat = np.std(eneg_tm, axis=1)\n",
    "magnetizations = np.mean(mag_tm, axis=1)\n",
    "susc = np.std(mag_tm, axis=1)\n",
    "an = .95\n",
    "R = (1+an)/(1-an)\n",
    "\n",
    "exp = {\n",
    "    'N':N\n",
    "    ,'J':J\n",
    "    ,'mu':mu\n",
    "    ,'therm_sweeps':therm_sweeps\n",
    "    ,'measure_sweeps':measure_sweeps\n",
    "    ,'temps': temps\n",
    "    ,'energies':energies\n",
    "    ,'magn':magnetizations\n",
    "    ,'heat':heat\n",
    "    ,'susc':susc\n",
    "    \n",
    "    ,'an':an\n",
    "    \n",
    "}\n",
    "\n",
    "fn = f'../data/exp_N{N}_sweep{therm_sweeps}_mu{mu}_temp2_anisotr.98'\n",
    "print(fn)\n",
    "np.save(fn, exp)"
   ]
  },
  {
   "cell_type": "code",
   "execution_count": 30,
   "metadata": {
    "ExecuteTime": {
     "end_time": "2020-05-05T08:34:44.817313Z",
     "start_time": "2020-05-05T08:34:44.510834Z"
    }
   },
   "outputs": [
    {
     "data": {
      "text/plain": [
       "[<matplotlib.lines.Line2D at 0x7f693b011880>]"
      ]
     },
     "execution_count": 30,
     "metadata": {},
     "output_type": "execute_result"
    },
    {
     "data": {
      "image/png": "[encoded data removed]",
      "text/plain": [
       "<Figure size 432x288 with 1 Axes>"
      ]
     },
     "metadata": {
      "needs_background": "light"
     },
     "output_type": "display_data"
    }
   ],
   "source": [
    "plt.plot(mag_tm[20])"
   ]
  },
  {
   "cell_type": "code",
   "execution_count": null,
   "metadata": {
    "ExecuteTime": {
     "end_time": "2020-04-30T22:42:43.916953Z",
     "start_time": "2020-04-30T22:42:39.968Z"
    }
   },
   "outputs": [],
   "source": [
    "# smoothing\n",
    "plt.plot(np.convolve(energies, np.ones((N**2,))/N**2, mode='valid'))"
   ]
  },
  {
   "cell_type": "code",
   "execution_count": 164,
   "metadata": {
    "ExecuteTime": {
     "end_time": "2020-05-05T07:40:53.952123Z",
     "start_time": "2020-05-05T07:40:53.733532Z"
    }
   },
   "outputs": [],
   "source": [
    "n_ = 10\n",
    "an = .95\n",
    "R = (1+an)/(1-an)\n",
    "plt.title(f'J\\'/J={R:.4} T={temps[n_]:.2}')\n",
    "plt.imshow(grids[n_][0,0])"
   ]
  },
  {
   "cell_type": "code",
   "execution_count": 137,
   "metadata": {
    "ExecuteTime": {
     "end_time": "2020-05-05T06:12:53.299857Z",
     "start_time": "2020-05-05T06:12:53.258295Z"
    }
   },
   "outputs": [
    {
     "data": {
      "text/plain": [
       "<Figure size 432x288 with 0 Axes>"
      ]
     },
     "metadata": {},
     "output_type": "display_data"
    }
   ],
   "source": [
    "plt.savefig(f'../data/figures/Grid_anisotropy{an}_T.52.png')"
   ]
  },
  {
   "cell_type": "code",
   "execution_count": null,
   "metadata": {
    "ExecuteTime": {
     "end_time": "2020-05-05T05:54:53.811353Z",
     "start_time": "2020-05-05T05:54:47.370Z"
    }
   },
   "outputs": [],
   "source": [
    "#grid = get_random_grid(50)\n",
    "mask = torch_ising.get_anisotropic_mask(J, mu, 0.5)\n",
    "plt.imshow(mask, colormap='grayscale')"
   ]
  },
  {
   "cell_type": "code",
   "execution_count": null,
   "metadata": {},
   "outputs": [],
   "source": []
  },
  {
   "cell_type": "markdown",
   "metadata": {},
   "source": [
    "## Use simple serial algorithm"
   ]
  },
  {
   "cell_type": "code",
   "execution_count": null,
   "metadata": {
    "lines_to_next_cell": 2
   },
   "outputs": [],
   "source": [
    "J = 0.5\n",
    "mu = 0\n",
    "\n",
    "temps = np.linspace(0.05, 3, 100)\n",
    "eneg_tm = []\n",
    "mag_tm = []\n",
    "for T in temps:\n",
    "    beta = 1/T\n",
    "    grid = ising.get_random_grid(N)\n",
    "    \n",
    "    # Thermalise    \n",
    "    therm_sweeps = 200\n",
    "    for ix in random_ix(N, steps=N**2*therm_sweeps):\n",
    "        dE = ising.metrop_step(grid, ix, J, mu, beta, N)\n",
    "    \n",
    "    E = [ising.ising_energy(grid, J, mu)]\n",
    "    M = [np.mean(grid)]\n",
    "    print('measure t=',T)\n",
    "    for ix in random_ix(N, steps=N**2*100):\n",
    "        raise\n",
    "        dE = ising.metrop_step(grid, ix, J, mu, beta, N)\n",
    "        dE = dE or 0\n",
    "        E.append( E[-1] + dE )\n",
    "        M.append(np.mean(grid))\n",
    "        \n",
    "    print('done measure')\n",
    "    eneg_tm.append(E)\n",
    "    mag_tm.append(M)"
   ]
  },
  {
   "cell_type": "code",
   "execution_count": null,
   "metadata": {
    "ExecuteTime": {
     "end_time": "2020-04-30T22:42:43.902713Z",
     "start_time": "2020-04-30T22:42:39.943Z"
    },
    "collapsed": true
   },
   "outputs": [],
   "source": [
    "fig, axs = plt.subplots(2,2, figsize=(8,6))\n",
    "\n",
    "[ax.set_title(t) for ax, t in zip(sum(map(list, axs),[]),\n",
    "                              ['Energy','Specific Heat', 'Magnetization', 'Susceptibility'])]\n",
    "\n",
    "axs[0,0].plot(temps, list(map(np.mean, eneg_tm)))\n",
    "axs[0,1].plot(temps, list(map(np.std, eneg_tm)))\n",
    "axs[1,0].plot(temps, list(map(np.mean, mag_tm)))\n",
    "axs[1,1].plot(temps, list(map(np.std, mag_tm)))\n"
   ]
  }
 ],
 "metadata": {
  "jupytext": {
   "formats": "ipynb,scripts//py"
  },
  "kernelspec": {
   "display_name": "Python 3",
   "language": "python",
   "name": "python3"
  },
  "language_info": {
   "codemirror_mode": {
    "name": "ipython",
    "version": 3
   },
   "file_extension": ".py",
   "mimetype": "text/x-python",
   "name": "python",
   "nbconvert_exporter": "python",
   "pygments_lexer": "ipython3",
   "version": "3.8.2"
  },
  "toc": {
   "base_numbering": 1,
   "nav_menu": {},
   "number_sections": true,
   "sideBar": true,
   "skip_h1_title": false,
   "title_cell": "Table of Contents",
   "title_sidebar": "Contents",
   "toc_cell": true,
   "toc_position": {},
   "toc_section_display": true,
   "toc_window_display": false
  }
 },
 "nbformat": 4,
 "nbformat_minor": 4
}
