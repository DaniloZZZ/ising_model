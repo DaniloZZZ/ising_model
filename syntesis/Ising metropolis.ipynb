{
 "cells": [
  {
   "cell_type": "markdown",
   "metadata": {
    "toc": true
   },
   "source": [
    "<h1>Table of Contents<span class=\"tocSkip\"></span></h1>\n",
    "<div class=\"toc\"><ul class=\"toc-item\"><li><span><a href=\"#Simple-first-run\" data-toc-modified-id=\"Simple-first-run-1\"><span class=\"toc-item-num\">1&nbsp;&nbsp;</span>Simple first run</a></span></li></ul></div>"
   ]
  },
  {
   "cell_type": "code",
   "execution_count": 1,
   "metadata": {
    "ExecuteTime": {
     "end_time": "2020-04-10T19:18:43.385837Z",
     "start_time": "2020-04-10T19:18:42.867213Z"
    }
   },
   "outputs": [],
   "source": [
    "import numpy as np\n",
    "import matplotlib.pyplot as plt"
   ]
  },
  {
   "cell_type": "markdown",
   "metadata": {},
   "source": [
    "## Simple first run\n",
    "\n",
    "1. Iniatilize NxN grid\n",
    "2. Compute the initial energy $E$\n",
    "3. Flip random spin and compute $\\Delta E$\n",
    "4. Accept or reject based on criteria\n",
    "5. Continue to 3"
   ]
  },
  {
   "cell_type": "code",
   "execution_count": 172,
   "metadata": {
    "ExecuteTime": {
     "end_time": "2020-04-10T21:38:22.713964Z",
     "start_time": "2020-04-10T21:38:22.698171Z"
    }
   },
   "outputs": [
    {
     "data": {
      "text/plain": [
       "{'divide': 'warn', 'over': 'raise', 'under': 'ignore', 'invalid': 'warn'}"
      ]
     },
     "execution_count": 172,
     "metadata": {},
     "output_type": "execute_result"
    }
   ],
   "source": [
    "# Insight from using full energy\n",
    "np.seterr(over='raise')"
   ]
  },
  {
   "cell_type": "code",
   "execution_count": 308,
   "metadata": {
    "ExecuteTime": {
     "end_time": "2020-04-10T22:15:41.262977Z",
     "start_time": "2020-04-10T22:15:40.739721Z"
    }
   },
   "outputs": [
    {
     "data": {
      "image/png": "[encoded data removed]",
      "text/plain": [
       "<Figure size 432x288 with 1 Axes>"
      ]
     },
     "metadata": {
      "needs_background": "light"
     },
     "output_type": "display_data"
    }
   ],
   "source": [
    "N = 20\n",
    "grid = np.random.randint(low=0, high=2, size=(N, N))\n",
    "plt.imshow(grid)\n",
    "# Rescale to +-1\n",
    "grid = -1 + 2*grid"
   ]
  },
  {
   "cell_type": "code",
   "execution_count": 309,
   "metadata": {
    "ExecuteTime": {
     "end_time": "2020-04-10T22:15:41.279603Z",
     "start_time": "2020-04-10T22:15:41.264874Z"
    }
   },
   "outputs": [
    {
     "data": {
      "text/plain": [
       "[(2, 20), (0, 20), (1, 1), (1, 19)]"
      ]
     },
     "execution_count": 309,
     "metadata": {},
     "output_type": "execute_result"
    }
   ],
   "source": [
    "def adjacent_indexes_torus(idx, N):\n",
    "    i, j = idx\n",
    "    return [\n",
    "        ((i+1)%N, j),\n",
    "        ((i-1)%N, j),\n",
    "        (i, (j+1)%N),\n",
    "        (i, (j-1)%N),\n",
    "    ]\n",
    "\n",
    "adjacent_indexes_torus((1, 20), 20)"
   ]
  },
  {
   "cell_type": "code",
   "execution_count": 310,
   "metadata": {
    "ExecuteTime": {
     "end_time": "2020-04-10T22:15:42.048653Z",
     "start_time": "2020-04-10T22:15:41.726872Z"
    }
   },
   "outputs": [
    {
     "name": "stdout",
     "output_type": "stream",
     "text": [
      "Starting energy 574\n"
     ]
    }
   ],
   "source": [
    "beta = 1/10\n",
    "J = 10\n",
    "mu = 1\n",
    "\n",
    "# This is not efficient, but is clear to read\n",
    "E = 0\n",
    "e_0 = 30\n",
    "for i in range(N):\n",
    "    for j in range(N):\n",
    "        adj_ = adjacent_indexes_torus((i,j), N)\n",
    "        E += sum(-J*x*grid[ix] for ix in adj_)\n",
    "        E += -mu*grid[i, j]\n",
    "\n",
    "averages = []\n",
    "energies = []\n",
    "print('Starting energy', E)\n",
    "for n in range(int(2e3)):\n",
    "    averages.append(np.mean(grid))\n",
    "    energies.append(E)\n",
    "    i, j = (np.random.randint(0, N, size=(2,)))\n",
    "    x = grid[i, j]\n",
    "    grid[i, j] = - x\n",
    "    adj_ = adjacent_indexes_torus((i,j), N)\n",
    "    dE = sum(-J*x*grid[ix] for ix in adj_)\n",
    "    dE += -mu*x\n",
    "    dE = -2*dE\n",
    "    \n",
    "    accept_p = min(1, np.exp(-beta*dE))\n",
    "    \n",
    "    if accept_p>np.random.rand():\n",
    "        E = E + dE\n",
    "    else:\n",
    "        #reset it back\n",
    "        grid[i, j] = x\n",
    "    "
   ]
  },
  {
   "cell_type": "code",
   "execution_count": 311,
   "metadata": {
    "ExecuteTime": {
     "end_time": "2020-04-10T22:15:42.851884Z",
     "start_time": "2020-04-10T22:15:42.334959Z"
    },
    "scrolled": false
   },
   "outputs": [
    {
     "data": {
      "text/plain": [
       "<matplotlib.legend.Legend at 0x7f1b41d6b290>"
      ]
     },
     "execution_count": 311,
     "metadata": {},
     "output_type": "execute_result"
    },
    {
     "data": {
      "image/png": "[encoded data removed]",
      "text/plain": [
       "<Figure size 360x360 with 2 Axes>"
      ]
     },
     "metadata": {
      "needs_background": "light"
     },
     "output_type": "display_data"
    }
   ],
   "source": [
    "fig, axs = plt.subplots(2,1, figsize=(5,5))\n",
    "plt.plot(averages, label='average occupation') \n",
    "plt.legend()\n",
    "plt.sca(axs[0])\n",
    "plt.plot(energies, label='Energy', color='orange') \n",
    "plt.legend()"
   ]
  },
  {
   "cell_type": "code",
   "execution_count": 312,
   "metadata": {
    "ExecuteTime": {
     "end_time": "2020-04-10T22:15:43.457776Z",
     "start_time": "2020-04-10T22:15:43.014967Z"
    }
   },
   "outputs": [
    {
     "data": {
      "text/plain": [
       "<matplotlib.image.AxesImage at 0x7f1b3fba0410>"
      ]
     },
     "execution_count": 312,
     "metadata": {},
     "output_type": "execute_result"
    },
    {
     "data": {
      "image/png": "[encoded data removed]",
      "text/plain": [
       "<Figure size 432x288 with 1 Axes>"
      ]
     },
     "metadata": {
      "needs_background": "light"
     },
     "output_type": "display_data"
    }
   ],
   "source": [
    "plt.imshow(grid)"
   ]
  },
  {
   "cell_type": "code",
   "execution_count": null,
   "metadata": {},
   "outputs": [],
   "source": []
  },
  {
   "cell_type": "code",
   "execution_count": null,
   "metadata": {},
   "outputs": [],
   "source": []
  }
 ],
 "metadata": {
  "jupytext": {
   "formats": "ipynb,scripts//py"
  },
  "kernelspec": {
   "display_name": "Python 3",
   "language": "python",
   "name": "python3"
  },
  "language_info": {
   "codemirror_mode": {
    "name": "ipython",
    "version": 3
   },
   "file_extension": ".py",
   "mimetype": "text/x-python",
   "name": "python",
   "nbconvert_exporter": "python",
   "pygments_lexer": "ipython3",
   "version": "3.7.7rc1+"
  },
  "toc": {
   "base_numbering": 1,
   "nav_menu": {},
   "number_sections": true,
   "sideBar": true,
   "skip_h1_title": false,
   "title_cell": "Table of Contents",
   "title_sidebar": "Contents",
   "toc_cell": true,
   "toc_position": {},
   "toc_section_display": true,
   "toc_window_display": true
  }
 },
 "nbformat": 4,
 "nbformat_minor": 4
}
